{
  "cells": [
    {
      "cell_type": "markdown",
      "metadata": {
        "id": "_4nFuX7jaoX7"
      },
      "source": [
        "# Introduction\n",
        "\n",
        "This project focuses on the **classification of stars** using data from the **Gaia DR3 catalog**, filtered to include stellar properties apparent magnitudes of photometric bands. The goal is to classify stars into their respective spectral types (O, B, A, F, G, K, M) based on these features.\n",
        "\n",
        "## Project Overview:\n",
        "We aim to develop a machine learning model capable of accurately classifying stars using their physical characteristics. The dataset includes stars of all spectral types with various features that will be leveraged to train a model and evaluate its performance on unseen data.\n",
        "\n",
        "## Model Architecture:\n",
        "For this task, we use a **Artificial Neural Network (ANN)** to handle the classification of stars into spectral types. The ANN is designed to:\n",
        "- Extract complex patterns from the numerical data (e.g., temperature, luminosity).\n",
        "- Handle imbalanced classes through techniques such as **SMOTE** to balance the training set.\n",
        "- Provide robust performance across all spectral classes.\n",
        "\n",
        "## Task Breakdown:\n",
        "1. **Data Preprocessing**:\n",
        "   - Handle missing data by dropping rows or columns and imputing missing values where necessary.\n",
        "   - Normalize numerical features (e.g. the apparent magnitudes) to ensure uniform scale for model training.\n",
        "   - Encode the target labels (spectral types) as numerical values.\n",
        "\n",
        "2. **Balancing the Data**:\n",
        "   - Use **SMOTE** (Synthetic Minority Over-sampling Technique) to handle class imbalance, ensuring that each spectral type is represented equally in the training data.\n",
        "\n",
        "3. **Model Training**:\n",
        "   - Build and train the Artificial Neural Network (ANN) using the preprocessed data.\n",
        "   - Evaluate the model’s performance using the test set to ensure it generalizes well to unseen data.\n",
        "\n",
        "4. **Evaluation and Results**:\n",
        "   - Assess the model’s accuracy, precision, recall, and F1 score to determine its effectiveness in classifying stars into their respective spectral types.\n",
        "   - Visualize the results using confusion matrices and other metrics.\n",
        "\n"
      ]
    },
    {
      "cell_type": "markdown",
      "metadata": {
        "id": "b3ulV10TbJ_h"
      },
      "source": [
        "# Data Preprocessing\n",
        "\n",
        "In this section, we preprocess the raw dataset to prepare it for training our machine learning model. The preprocessing steps ensure that the data is clean, properly formatted, and suitable for model input. Below are the high-level steps that were carried out:\n",
        "\n",
        "## 1. Handling Missing Values:\n",
        "   - **Critical Features**: We dropped rows with missing values in critical features such as `Teff` (Effective Temperature), `Lum-Flame` (Luminosity), and `SpType-ELS` (Spectral Class), as these are essential for classification.\n",
        "   - **Non-Critical Features**: Columns with a large number of missing values, such as `GRVSmag` and `RV`, were dropped since they were not critical to the star classification task.\n",
        "\n",
        "## 2. Feature Selection:\n",
        "   - We selected the most relevant features for classification:\n",
        "     - **Gmag**: This is the average apparent magnitude in the G band, the central band of Gaia’s photometric system, capturing light in the green part of the spectrum. It provides a baseline measure of the star’s brightness in a mid-range wavelength.\n",
        "     - **BPmag**: The average apparent magnitude in the Blue Photometer (BP) band, representing the star’s brightness in shorter (bluer) wavelengths. It’s useful for assessing the star’s output at the blue end of the spectrum.\n",
        "     - **RPmag**: The average apparent magnitude in the Red Photometer (RP) band, capturing brightness in longer (redder) wavelengths. This complements BPmag by providing data on the star’s red light emissions.\n",
        "     - **Luminosity**:\n",
        "   - These features were chosen because they provide important information about the photometric characteristics of the stars from which we can infer the classification of each star. It is also important to note that all these values are directly observed values and not inferred ones like temperature or luminosity meaning that the user of the ANN need only input these values to get a classification as output, which is what we desire to have.\n",
        "\n",
        "## 3. Normalization:\n",
        "   - To ensure consistent scale across all features, we applied **Min-Max Scaling** to the numerical columns. This scaled all features between 0 and 1, which helps improve the performance of machine learning models.\n",
        "\n",
        "## 4. Label Encoding:\n",
        "   - The target variable, `SpType-ELS` (Spectral Class), contains categorical labels representing different spectral types (O, B, A, F, G, K, M). We converted these labels into numerical values using **Label Encoding**. We then took these label encodings and transformed them into **one-hot** truth labels.\n",
        "\n",
        "## 5. Train-Test Split:\n",
        "   - We split the dataset into a training set and a test set. The training set is used to train the model, while the test set is reserved for evaluating the model's performance on unseen data.\n",
        "   - We used an 80-20 split, meaning 80% of the data was used for training, and 20% was used for testing.\n",
        "\n",
        "## 6. Handling Class Imbalance:\n",
        "   - Since the dataset contains an imbalance across spectral classes (with some classes having far fewer samples), we applied **SMOTE** (Synthetic Minority Over-sampling Technique) to balance the training set. SMOTE generates synthetic samples for the minority classes, ensuring that the model receives an equal representation of all classes.\n",
        "\n",
        "These preprocessing steps ensure that the dataset is clean, balanced, and ready for use in our machine learning model.\n"
      ]
    },
    {
      "cell_type": "code",
      "execution_count": null,
      "metadata": {
        "colab": {
          "base_uri": "https://localhost:8080/"
        },
        "id": "XN4dN3rBkC2Z",
        "outputId": "2cce3ee7-30b1-46da-f857-dd079376a45e"
      },
      "outputs": [
        {
          "output_type": "stream",
          "name": "stdout",
          "text": [
            "Mounted at /content/drive\n"
          ]
        }
      ],
      "source": [
        "from google.colab import drive\n",
        "drive.mount('/content/drive')"
      ]
    },
    {
      "cell_type": "markdown",
      "metadata": {
        "id": "JdRmE3Hcbw3m"
      },
      "source": [
        "### Step 1: Handle Missing Data\n",
        "\n",
        "#### Drop rows with missing critical data (Teff, Lum-Flame, SpType-ELS)\n",
        "- The features 'Teff' (Temperature), 'Lum-Flame' (Luminosity), and 'SpType-ELS' (Spectral class) are essential for the classification task.\n",
        "- Without these values, the data is incomplete for predicting the star's spectral class.\n",
        "- Dropping rows with missing values ensures that only complete and useful data points are retained for analysis.\n",
        "\n",
        "#### Drop entire columns with too many missing values (GRVSmag, RV)\n",
        "- 'GRVSmag' and 'RV' have a significant amount of missing data, which means they are unavailable for many stars.\n",
        "- Retaining these columns could lead to complications, such as model inefficiency or biased results due to incomplete data.\n",
        "- These columns are not critical to the primary classification task (spectral classification), so it's better to drop them entirely to maintain dataset consistency.\n"
      ]
    },
    {
      "cell_type": "code",
      "execution_count": null,
      "metadata": {
        "id": "bnIv0jnKWR_j",
        "collapsed": true,
        "colab": {
          "base_uri": "https://localhost:8080/"
        },
        "outputId": "7f1f2286-413e-4259-894b-24cc88c543a4"
      },
      "outputs": [
        {
          "output_type": "stream",
          "name": "stdout",
          "text": [
            "Original dataset shape: (626016, 50)\n",
            "<class 'pandas.core.frame.DataFrame'>\n",
            "RangeIndex: 626016 entries, 0 to 626015\n",
            "Data columns (total 50 columns):\n",
            " #   Column      Non-Null Count   Dtype  \n",
            "---  ------      --------------   -----  \n",
            " 0   Unnamed: 0  626016 non-null  int64  \n",
            " 1   RA_ICRS     626016 non-null  float64\n",
            " 2   DE_ICRS     626016 non-null  float64\n",
            " 3   Source      626016 non-null  int64  \n",
            " 4   e_RA_ICRS   626016 non-null  float64\n",
            " 5   e_DE_ICRS   626016 non-null  float64\n",
            " 6   Plx         626016 non-null  float64\n",
            " 7   e_Plx       626016 non-null  float64\n",
            " 8   PM          626016 non-null  float64\n",
            " 9   pmRA        626016 non-null  float64\n",
            " 10  e_pmRA      626016 non-null  float64\n",
            " 11  pmDE        626016 non-null  float64\n",
            " 12  e_pmDE      626016 non-null  float64\n",
            " 13  RUWE        626016 non-null  float64\n",
            " 14  Gmag        626015 non-null  float64\n",
            " 15  e_Gmag      626015 non-null  float64\n",
            " 16  BPmag       626015 non-null  float64\n",
            " 17  e_BPmag     626015 non-null  float64\n",
            " 18  RPmag       626016 non-null  float64\n",
            " 19  e_RPmag     626016 non-null  float64\n",
            " 20  GRVSmag     509709 non-null  float64\n",
            " 21  e_GRVSmag   509709 non-null  float64\n",
            " 22  RV          510348 non-null  float64\n",
            " 23  logg        626016 non-null  float64\n",
            " 24  [Fe/H]      626016 non-null  float64\n",
            " 25  Dist        626016 non-null  float64\n",
            " 26  PQSO        626016 non-null  float64\n",
            " 27  PGal        626016 non-null  float64\n",
            " 28  Pstar       626016 non-null  float64\n",
            " 29  PWD         626016 non-null  float64\n",
            " 30  Pbin        626016 non-null  float64\n",
            " 31  Teff        626016 non-null  float64\n",
            " 32  A0          626016 non-null  float64\n",
            " 33  AG          626016 non-null  float64\n",
            " 34  ABP         626016 non-null  float64\n",
            " 35  ARP         626016 non-null  float64\n",
            " 36  E(BP-RP)    626016 non-null  float64\n",
            " 37  GMAG        626016 non-null  float64\n",
            " 38  Rad         626016 non-null  float64\n",
            " 39  Rad-Flame   611293 non-null  float64\n",
            " 40  Lum-Flame   611293 non-null  float64\n",
            " 41  Mass-Flame  590796 non-null  float64\n",
            " 42  Age-Flame   544681 non-null  float64\n",
            " 43  z-Flame     611293 non-null  float64\n",
            " 44  Evol        590797 non-null  float64\n",
            " 45  SpType-ELS  626016 non-null  object \n",
            " 46  Flags-HS    626016 non-null  int64  \n",
            " 47  EWHa        626016 non-null  float64\n",
            " 48  e_EWHa      626016 non-null  float64\n",
            " 49  f_EWHa      626016 non-null  int64  \n",
            "dtypes: float64(45), int64(4), object(1)\n",
            "memory usage: 238.8+ MB\n",
            "Missing values in each column:\n",
            " Unnamed: 0         0\n",
            "RA_ICRS            0\n",
            "DE_ICRS            0\n",
            "Source             0\n",
            "e_RA_ICRS          0\n",
            "e_DE_ICRS          0\n",
            "Plx                0\n",
            "e_Plx              0\n",
            "PM                 0\n",
            "pmRA               0\n",
            "e_pmRA             0\n",
            "pmDE               0\n",
            "e_pmDE             0\n",
            "RUWE               0\n",
            "Gmag               1\n",
            "e_Gmag             1\n",
            "BPmag              1\n",
            "e_BPmag            1\n",
            "RPmag              0\n",
            "e_RPmag            0\n",
            "GRVSmag       116307\n",
            "e_GRVSmag     116307\n",
            "RV            115668\n",
            "logg               0\n",
            "[Fe/H]             0\n",
            "Dist               0\n",
            "PQSO               0\n",
            "PGal               0\n",
            "Pstar              0\n",
            "PWD                0\n",
            "Pbin               0\n",
            "Teff               0\n",
            "A0                 0\n",
            "AG                 0\n",
            "ABP                0\n",
            "ARP                0\n",
            "E(BP-RP)           0\n",
            "GMAG               0\n",
            "Rad                0\n",
            "Rad-Flame      14723\n",
            "Lum-Flame      14723\n",
            "Mass-Flame     35220\n",
            "Age-Flame      81335\n",
            "z-Flame        14723\n",
            "Evol           35219\n",
            "SpType-ELS         0\n",
            "Flags-HS           0\n",
            "EWHa               0\n",
            "e_EWHa             0\n",
            "f_EWHa             0\n",
            "dtype: int64\n",
            "Rows dropped during cleaning: 14724\n",
            "Cleaned dataset shape: (611292, 50)\n",
            "Available columns after cleaning: Index(['Unnamed: 0', 'RA_ICRS', 'DE_ICRS', 'Source', 'e_RA_ICRS', 'e_DE_ICRS',\n",
            "       'Plx', 'e_Plx', 'PM', 'pmRA', 'e_pmRA', 'pmDE', 'e_pmDE', 'RUWE',\n",
            "       'Gmag', 'e_Gmag', 'BPmag', 'e_BPmag', 'RPmag', 'e_RPmag', 'e_GRVSmag',\n",
            "       'logg', '[Fe/H]', 'Dist', 'PQSO', 'PGal', 'Pstar', 'PWD', 'Pbin',\n",
            "       'Teff', 'A0', 'AG', 'ABP', 'ARP', 'E(BP-RP)', 'GMAG', 'Rad',\n",
            "       'Rad-Flame', 'Lum-Flame', 'Mass-Flame', 'Age-Flame', 'z-Flame', 'Evol',\n",
            "       'SpType-ELS', 'Flags-HS', 'EWHa', 'e_EWHa', 'f_EWHa'],\n",
            "      dtype='object')\n"
          ]
        }
      ],
      "source": [
        "import pandas as pd\n",
        "\n",
        "# Download latest version\n",
        "#!kaggle datasets download -d realkiller69/gaia-stars-dataset-from-dr3-data-release-3\n",
        "#import zipfile\n",
        "\n",
        "# Unzip the file after downloading\n",
        "#with zipfile.ZipFile('gaia-stars-dataset-from-dr3-data-release-3.zip', 'r') as zip_ref:\n",
        "#    zip_ref.extractall(\"path/to/extract\")\n",
        "#df = pd.read_csv(\"path/to/extract/dataGaia2.csv\")\n",
        "\n",
        "# Load the dataset from Google Drive\n",
        "file_path = '/content/drive/MyDrive/APS360/datasets/dataGaia2.csv'\n",
        "df = pd.read_csv(file_path)\n",
        "\n",
        "# Display the first few rows of the dataset to check if it's loaded correctly\n",
        "print(\"Original dataset shape:\", df.shape)  # Before cleaning\n",
        "\n",
        "# Get a summary of the dataset\n",
        "df.info()\n",
        "\n",
        "# Check for missing values\n",
        "missing_values = df.isnull().sum()\n",
        "print(\"Missing values in each column:\\n\", missing_values)\n",
        "\n",
        "# Document the number of rows before dropping\n",
        "rows_before_cleaning = df.shape[0]\n",
        "\n",
        "# Drop rows with missing critical data (SpType-ELS)\n",
        "#df_cleaned = df.dropna(subset=['Teff', 'Lum-Flame', 'SpType-ELS', 'Gmag', 'BPmag', 'RPmag'])\n",
        "df_cleaned = df.dropna(subset=['SpType-ELS', 'Gmag', 'BPmag', 'RPmag', 'Lum-Flame'])\n",
        "\n",
        "# Document the number of rows after dropping\n",
        "rows_after_cleaning = df_cleaned.shape[0]\n",
        "rows_dropped = rows_before_cleaning - rows_after_cleaning\n",
        "\n",
        "print(f\"Rows dropped during cleaning: {rows_dropped}\")\n",
        "print(\"Cleaned dataset shape:\", df_cleaned.shape)  # After cleaning\n",
        "\n",
        "# Drop entire columns with too many missing values (GRVSmag, RV)\n",
        "df_cleaned = df_cleaned.drop(columns=['GRVSmag', 'RV'])\n",
        "\n",
        "# Check the available columns in the cleaned dataset\n",
        "print(\"Available columns after cleaning:\", df_cleaned.columns)\n"
      ]
    },
    {
      "cell_type": "markdown",
      "metadata": {
        "id": "H278XJA3cFo0"
      },
      "source": [
        "### Step 2: Select key features for classification\n",
        "- We choose features that are directly related to star classification based on spectral type:\n",
        "   - 'Gmag' (G-band Magnitude)\n",
        "   - 'BPmag' (BP-band Magnitude)\n",
        "   - 'RPmag' (RP-band Magnitude)\n",
        "   - 'Lum-Flame' (Luminosity relative to the sun)\n",
        "   \n",
        "- These features represent physical properties of stars and will be used as inputs for the model.\n",
        "- 'SpType-ELS' (Spectral Class) is our target variable, which the model will predict.\n"
      ]
    },
    {
      "cell_type": "code",
      "execution_count": null,
      "metadata": {
        "id": "xSzyQS5zXty7"
      },
      "outputs": [],
      "source": [
        "# Create new columns for the color indices\n",
        "\n",
        "# Select key features for classification\n",
        "features = ['Gmag', 'BPmag', 'RPmag', 'Lum-Flame']\n",
        "target = 'SpType-ELS'\n",
        "\n",
        "# Separate the selected features (X) and the target variable (y)\n",
        "X = df_cleaned[features]\n",
        "y = df_cleaned[target]"
      ]
    },
    {
      "cell_type": "markdown",
      "metadata": {
        "id": "b2MAAV1IdB3N"
      },
      "source": [
        "### Step 3: Normalize numerical features to scale them between 0 and 1\n",
        "- Neural networks, perform better when input features are on a similar scale.\n",
        "- Normalizing the data helps the model converge faster and prevents any feature from dominating the learning process due to a larger numerical range.\n",
        "- We use **MinMaxScaler** to transform the values, scaling all numerical features to fall between 0 and 1."
      ]
    },
    {
      "cell_type": "code",
      "execution_count": null,
      "metadata": {
        "id": "T0fRnXc6YeCa"
      },
      "outputs": [],
      "source": [
        "from sklearn.preprocessing import MinMaxScaler\n",
        "\n",
        "scaler = MinMaxScaler()\n",
        "X_scaled = scaler.fit_transform(X)\n"
      ]
    },
    {
      "cell_type": "code",
      "source": [
        "# Since the features in X are scaled together\n",
        "# this is used later for plotting\n",
        "lum_flame_index = features.index('Lum-Flame')\n",
        "original_min_lumFlame = scaler.data_min_[lum_flame_index]\n",
        "original_max_lumFlame = scaler.data_max_[lum_flame_index]\n",
        "print(f\"Original range of Lum-Flame: [{original_min_lumFlame}, {original_max_lumFlame}]\")"
      ],
      "metadata": {
        "colab": {
          "base_uri": "https://localhost:8080/"
        },
        "id": "V_FQROA0dwJX",
        "outputId": "4db73cb5-9090-4ab1-a095-86053a5a75c0"
      },
      "execution_count": null,
      "outputs": [
        {
          "output_type": "stream",
          "name": "stdout",
          "text": [
            "Original range of Lum-Flame: [0.0347323, 3499.921]\n"
          ]
        }
      ]
    },
    {
      "cell_type": "markdown",
      "metadata": {
        "id": "MvNTCvcqdFWb"
      },
      "source": [
        "### Step 4: Encode the target labels (SpType-ELS) as numerical values\n",
        "- The 'SpType-ELS' column contains categorical data representing spectral types (O, B, A, F, G, K, M).\n",
        "- Machine learning models require numerical input, so we use **LabelEncoder** to convert these categorical labels into integer form.\n",
        "- For example:\n",
        "   - O -> 0\n",
        "   - B -> 1\n",
        "   - A -> 2\n",
        "   - And so on for the remaining classes.\n",
        "- Then convert these into **one-hot** encodings.\n"
      ]
    },
    {
      "cell_type": "code",
      "execution_count": null,
      "metadata": {
        "id": "TWjPEalKXudV"
      },
      "outputs": [],
      "source": [
        "from sklearn.preprocessing import LabelEncoder\n",
        "\n",
        "label_encoder = LabelEncoder()\n",
        "y_encoded = label_encoder.fit_transform(y)\n",
        "y_oneHot = pd.get_dummies(y_encoded, dtype=int)"
      ]
    },
    {
      "cell_type": "markdown",
      "metadata": {
        "id": "o8g_PeGqdgNu"
      },
      "source": [
        "### Step 5: Handle class imbalance\n",
        "- Some spectral classes (like O-type stars) may be underrepresented in the dataset, leading to class imbalance.\n",
        "- Class imbalance can negatively impact model performance, as the model may become biased toward the majority class.\n",
        "- **SMOTE** (Synthetic Minority Over-sampling Technique) generates synthetic samples for the minority classes, balancing the dataset.\n",
        "- This allows the model to learn from all classes more effectively, improving performance for underrepresented classes.\n",
        "- We use `np.unique()` to count the number of occurrences for each class in the balanced dataset.\n"
      ]
    },
    {
      "cell_type": "code",
      "execution_count": null,
      "metadata": {
        "id": "JjXi7dQiYMoH",
        "colab": {
          "base_uri": "https://localhost:8080/",
          "height": 1000
        },
        "outputId": "d6000260-ea9f-4518-cfa9-b2776d00fefa"
      },
      "outputs": [
        {
          "output_type": "display_data",
          "data": {
            "text/plain": [
              "<Figure size 1000x600 with 1 Axes>"
            ],
            "image/png": "[encoded data removed]"
          },
          "metadata": {}
        },
        {
          "output_type": "display_data",
          "data": {
            "text/plain": [
              "<Figure size 1000x600 with 1 Axes>"
            ],
            "image/png": "[encoded data removed]"
          },
          "metadata": {}
        }
      ],
      "source": [
        "from imblearn.over_sampling import SMOTE\n",
        "from sklearn.model_selection import StratifiedShuffleSplit\n",
        "import pandas as pd\n",
        "import numpy as np\n",
        "import matplotlib.pyplot as plt\n",
        "\n",
        "# Combine features and target into a DataFrame for normalization\n",
        "data = pd.DataFrame(X_scaled)\n",
        "data['target'] = y_encoded\n",
        "\n",
        "# Remove rows with any missing values\n",
        "data.dropna(inplace=True)\n",
        "\n",
        "# Get the unique classes and their counts\n",
        "unique, counts = np.unique(data['target'], return_counts=True)\n",
        "unique = label_encoder.inverse_transform(unique)\n",
        "\n",
        "# Set the figure size\n",
        "plt.figure(figsize=(10, 6))\n",
        "\n",
        "# Create a bar plot using the viridis colormap\n",
        "colors = plt.cm.viridis(np.linspace(0, 1, len(unique)))  # Generate colors from the viridis colormap\n",
        "plt.bar(unique, counts, color=colors)\n",
        "\n",
        "# Add labels and title\n",
        "plt.xlabel('Spectral Class')\n",
        "plt.ylabel('Number of Instances')\n",
        "plt.title('Class Distribution Before SMOTE')\n",
        "plt.xticks(unique)  # Show all classes on x-axis\n",
        "plt.grid(axis='y')\n",
        "\n",
        "# Show the plot\n",
        "plt.show()\n",
        "\n",
        "# Apply SMOTE to balance the dataset\n",
        "smote = SMOTE(random_state=42)\n",
        "X_balanced, y_balanced = smote.fit_resample(data.drop('target', axis=1), data['target'])\n",
        "\n",
        "# Combine the balanced features and target back into a DataFrame\n",
        "balanced_data = pd.DataFrame(X_balanced, columns=data.columns[:-1])\n",
        "balanced_data['target'] = y_balanced\n",
        "\n",
        "# Get the unique classes and their counts\n",
        "unique, counts = np.unique(y_balanced, return_counts=True)\n",
        "unique = label_encoder.inverse_transform(unique)\n",
        "\n",
        "# Set the figure size\n",
        "plt.figure(figsize=(10, 6))\n",
        "\n",
        "# Create a bar plot using the viridis colormap\n",
        "colors = plt.cm.viridis(np.linspace(0, 1, len(unique)))  # Generate colors from the viridis colormap\n",
        "plt.bar(unique, counts, color=colors)\n",
        "\n",
        "# Add labels and title\n",
        "plt.xlabel('Spectral Class')\n",
        "plt.ylabel('Number of Instances')\n",
        "plt.title('Class Distribution After SMOTE')\n",
        "plt.xticks(unique)  # Show all classes on x-axis\n",
        "plt.grid(axis='y')\n",
        "\n",
        "# Show the plot\n",
        "plt.show()"
      ]
    },
    {
      "cell_type": "markdown",
      "metadata": {
        "id": "UgtfdzMYdJAN"
      },
      "source": [
        "### Step 6: Split the dataset into training and testing sets\n",
        "- To evaluate model performance, we split the data into **training** and **testing** sets.\n",
        "- The model will learn on the **training set** and be evaluated on the **test set**.\n",
        "- This ensures that the model is assessed on unseen data, preventing overfitting.\n",
        "- We use an 70-15-15 split, meaning 70% of the data is used for training, 15% for validation, and 15% for testing\n"
      ]
    },
    {
      "cell_type": "code",
      "execution_count": null,
      "metadata": {
        "id": "CNtx0WQyKMMk"
      },
      "outputs": [],
      "source": [
        "import matplotlib.pyplot as plt\n",
        "import numpy as np\n",
        "\n",
        "def visualize_data_split(y_train, y_val, y_test):\n",
        "    # Get the class distributions\n",
        "    train_counts = np.unique(y_train, return_counts=True)\n",
        "    val_counts = np.unique(y_val, return_counts=True)\n",
        "    test_counts = np.unique(y_test, return_counts=True)\n",
        "\n",
        "    # Set bar width\n",
        "    bar_width = 0.25\n",
        "\n",
        "    # Create a figure\n",
        "    plt.figure(figsize=(12, 6))\n",
        "\n",
        "    # Set positions for each set's bars\n",
        "    positions_train = np.arange(len(train_counts[0]))  # Positions for training set\n",
        "    positions_val = positions_train + bar_width         # Positions for validation set\n",
        "    positions_test = positions_train + 2 * bar_width    # Positions for test set\n",
        "\n",
        "    # Create bars for each set\n",
        "    plt.bar(positions_train, train_counts[1], width=bar_width, label='Training Set', color='blue')\n",
        "    plt.bar(positions_val, val_counts[1], width=bar_width, label='Validation Set', color='orange')\n",
        "    plt.bar(positions_test, test_counts[1], width=bar_width, label='Test Set', color='green')\n",
        "\n",
        "    # Add labels and title\n",
        "    plt.xlabel('Spectral Class')\n",
        "    plt.ylabel('Number of Instances')\n",
        "    plt.title('Class Distribution in Training, Validation, and Test Sets')\n",
        "    plt.xticks(positions_train + bar_width, label_encoder.inverse_transform(train_counts[0]))  # Set x-ticks to the spectral classes\n",
        "    plt.legend()\n",
        "    plt.grid(axis='y')\n",
        "\n",
        "    # Show the plot\n",
        "    plt.tight_layout()\n",
        "    plt.show()\n",
        "\n",
        "# Example usage:\n",
        "# visualize_data_split(y_train, y_val, y_test)\n"
      ]
    },
    {
      "cell_type": "code",
      "execution_count": null,
      "metadata": {
        "id": "hoa_isvwxgGD",
        "colab": {
          "base_uri": "https://localhost:8080/"
        },
        "outputId": "5f9a4a62-5648-4986-c7ae-c51cfb224237"
      },
      "outputs": [
        {
          "output_type": "stream",
          "name": "stdout",
          "text": [
            "Training set size: 490000\n",
            "Validation set size: 105000\n",
            "Test set size: 105000\n"
          ]
        }
      ],
      "source": [
        "# Create the Stratified Shuffle Split object\n",
        "sss = StratifiedShuffleSplit(n_splits=1, test_size=0.3, random_state=42)\n",
        "\n",
        "# Split the balanced data into training (70%) and temporary set (30%)\n",
        "for train_index, temp_index in sss.split(balanced_data, balanced_data['target']):\n",
        "    train_set = balanced_data.loc[train_index].reset_index(drop=True)\n",
        "    temp_set = balanced_data.loc[temp_index].reset_index(drop=True)\n",
        "\n",
        "# Now split the temporary set (30%) directly into validation (15%) and testing (15%)\n",
        "sss_temp = StratifiedShuffleSplit(n_splits=1, test_size=0.5, random_state=42)\n",
        "\n",
        "for val_index, test_index in sss_temp.split(temp_set, temp_set['target']):\n",
        "    val_set = temp_set.loc[val_index].reset_index(drop=True)\n",
        "    test_set = temp_set.loc[test_index].reset_index(drop=True)\n",
        "\n",
        "# Extract features and target for each set\n",
        "X_train = train_set.drop('target', axis=1)\n",
        "y_train = train_set['target']\n",
        "y_train_OH = pd.get_dummies(y_train, dtype=int)\n",
        "X_val = val_set.drop('target', axis=1)\n",
        "y_val = val_set['target']\n",
        "y_val_OH = pd.get_dummies(y_val, dtype=int)\n",
        "X_test = test_set.drop('target', axis=1)\n",
        "y_test = test_set['target']\n",
        "y_test_OH = pd.get_dummies(y_test, dtype=int)\n",
        "\n",
        "# Check the sizes of the splits\n",
        "print(f\"Training set size: {len(y_train)}\")\n",
        "print(f\"Validation set size: {len(y_val)}\")\n",
        "print(f\"Test set size: {len(y_test)}\")"
      ]
    },
    {
      "cell_type": "code",
      "execution_count": null,
      "metadata": {
        "id": "YqC0Yc0NKN7T",
        "colab": {
          "base_uri": "https://localhost:8080/",
          "height": 607
        },
        "outputId": "eba1ff50-d834-4b85-ddba-86a3cbf98e03"
      },
      "outputs": [
        {
          "output_type": "display_data",
          "data": {
            "text/plain": [
              "<Figure size 1200x600 with 1 Axes>"
            ],
            "image/png": "[encoded data removed]"
          },
          "metadata": {}
        }
      ],
      "source": [
        "visualize_data_split(y_train, y_val, y_test)"
      ]
    },
    {
      "cell_type": "markdown",
      "metadata": {
        "id": "C7KV0_Vgyiwm"
      },
      "source": [
        "### Step 7: Developping a baseline model\n",
        "- Develop a quick baseline models to assess feasibility of the primary model\n",
        "- The model will be a small **SVM** to attempt stellar classification."
      ]
    },
    {
      "cell_type": "code",
      "execution_count": null,
      "metadata": {
        "id": "vgAmJILfN073",
        "colab": {
          "base_uri": "https://localhost:8080/",
          "height": 986
        },
        "outputId": "a21f8a75-a007-42b2-8f16-4c1b97a7c62f"
      },
      "outputs": [
        {
          "output_type": "display_data",
          "data": {
            "text/plain": [
              "<Figure size 1000x800 with 2 Axes>"
            ],
            "image/png": "[encoded data removed]"
          },
          "metadata": {}
        },
        {
          "output_type": "stream",
          "name": "stdout",
          "text": [
            "              precision    recall  f1-score   support\n",
            "\n",
            "           O       0.86      0.75      0.80       711\n",
            "           B       0.86      0.79      0.82       790\n",
            "           A       0.47      0.72      0.57       689\n",
            "           F       0.45      0.26      0.33       698\n",
            "           G       0.65      0.60      0.62       700\n",
            "           K       0.81      0.92      0.86       730\n",
            "           M       0.84      0.90      0.87       682\n",
            "\n",
            "    accuracy                           0.71      5000\n",
            "   macro avg       0.71      0.70      0.70      5000\n",
            "weighted avg       0.71      0.71      0.70      5000\n",
            "\n",
            "The accuracy of the SVM is 0.7068, which is much higher than random chance as there are 7 different possible categories.\n"
          ]
        }
      ],
      "source": [
        "#baseline model - SVM\n",
        "import pandas as pd\n",
        "from sklearn.model_selection import train_test_split\n",
        "from sklearn.svm import SVC\n",
        "from sklearn.metrics import accuracy_score, confusion_matrix, classification_report\n",
        "from sklearn.preprocessing import StandardScaler  # For feature scaling\n",
        "import seaborn as sns\n",
        "import matplotlib.pyplot as plt\n",
        "\n",
        "def test_SVM(X_train, y_train, X_test, y_test):\n",
        "    # Create an SVM classifier object\n",
        "    svm_classifier = SVC(kernel='linear', C=1)\n",
        "\n",
        "    # Sample training and test data to speed up SVM training as we just need a proof of concept\n",
        "    sample_X_train = X_train.sample(n=25000, random_state=42)\n",
        "    sample_y_train = y_train[sample_X_train.index]\n",
        "    sample_X_test = X_test.sample(n=5000, random_state=42)\n",
        "    sample_y_test = y_test[sample_X_test.index]\n",
        "\n",
        "    scaler = StandardScaler()\n",
        "    sample_X_train = scaler.fit_transform(sample_X_train)\n",
        "    sample_X_test = scaler.transform(sample_X_test)\n",
        "\n",
        "    # Train the classifier\n",
        "    svm_classifier.fit(sample_X_train, sample_y_train)\n",
        "\n",
        "    # Predict on the test set\n",
        "    y_pred = svm_classifier.predict(sample_X_test)\n",
        "\n",
        "    # Calculate accuracy\n",
        "    accuracy = accuracy_score(sample_y_test, y_pred)\n",
        "\n",
        "    # Generate and display the confusion matrix\n",
        "    cm = confusion_matrix(sample_y_test, y_pred)\n",
        "    plt.figure(figsize=(10, 8))\n",
        "    sns.heatmap(cm, annot=True, fmt=\"d\", cmap=\"Blues\", xticklabels=[\"O\", \"B\", \"A\", \"F\", \"G\", \"K\", \"M\"], yticklabels=[\"O\", \"B\", \"A\", \"F\", \"G\", \"K\", \"M\"])\n",
        "    plt.xlabel(\"Predicted\")\n",
        "    plt.ylabel(\"True\")\n",
        "    plt.title(\"Confusion Matrix for SVM Baseline Model\")\n",
        "    plt.show()\n",
        "\n",
        "    # Print the classification report with descriptive class names\n",
        "    class_names = [\"O\", \"B\", \"A\", \"F\", \"G\", \"K\", \"M\"]\n",
        "    report = classification_report(sample_y_test, y_pred, target_names=class_names)\n",
        "    print(report)\n",
        "\n",
        "    return accuracy\n",
        "\n",
        "# Run the function and print the overall accuracy\n",
        "print(f\"The accuracy of the SVM is {test_SVM(X_train, y_train, X_test, y_test):.4f}, which is much higher than random chance as there are 7 different possible categories.\")\n"
      ]
    },
    {
      "cell_type": "markdown",
      "metadata": {
        "id": "cc0v0aYNTGH1"
      },
      "source": [
        "### Step 8: Developping a primary model\n",
        "- We will be making a simple ANN with 6 inputs, 32 neuron hidden layer, then a 64 neuron hidden layer, then a 32 neuron hidden layer which is connected to out output layer of 7 for each of the stellar classifications"
      ]
    },
    {
      "cell_type": "code",
      "execution_count": null,
      "metadata": {
        "id": "e9B77vQRUs2H"
      },
      "outputs": [],
      "source": [
        "import torch\n",
        "import torch.nn as nn\n",
        "import torch.optim as optim\n",
        "from torch.optim.lr_scheduler import StepLR\n",
        "\n",
        "class StarClassifierANN(nn.Module):\n",
        "    def __init__(self, activation_function = nn.ReLU()):\n",
        "        super(StarClassifierANN, self).__init__()\n",
        "        self.name = \"StarClassifierANN\"\n",
        "        self.activation_function = activation_function\n",
        "        # Define the network layers\n",
        "        self.fc1 = nn.Linear(4, 64)  # 4 inputs for the photometric features\n",
        "        self.fc2 = nn.Linear(64, 128) # Hidden layer with 64 neurons\n",
        "        self.fc3 = nn.Linear(128, 150) # Another hidden layer with 32 neurons\n",
        "        self.fc4 = nn.Linear(150, 75) # Another hidden layer with 32 neurons\n",
        "        self.fc5 = nn.Linear(75, 7)  # 7 output classes for the spectral types\n",
        "\n",
        "    def forward(self, x):\n",
        "        # Define the forward pass\n",
        "        x = self.activation_function(self.fc1(x))\n",
        "        x = self.activation_function(self.fc2(x))\n",
        "        x = self.activation_function(self.fc3(x))\n",
        "        x = self.activation_function(self.fc4(x))\n",
        "        x = self.fc5(x)  # Output layer without activation (logits)\n",
        "        return x\n"
      ]
    },
    {
      "cell_type": "code",
      "execution_count": null,
      "metadata": {
        "id": "R8fi1SRlV5M4"
      },
      "outputs": [],
      "source": [
        "\n",
        "def get_model_name(name, batch_size, learn_rate, epoch):\n",
        "    \"\"\" Generate a name for the model consisting of all the hyperparameter values\n",
        "\n",
        "    Args:\n",
        "        config: Configuration object containing the hyperparameters\n",
        "    Returns:\n",
        "        path: A string with the hyperparameter name and value concatenated\n",
        "    \"\"\"\n",
        "    path = \"model_{0}_bs{1}_lr{2}_epoch{3}\".format(name, batch_size, learn_rate, epoch)\n",
        "    return path\n",
        "\n",
        "def plot_training_curve(epochs, train_loss, val_loss, train_err, val_err):\n",
        "    \"\"\" Plots the training curve for a model run, given the training and validation data.\n",
        "\n",
        "    Args:\n",
        "        epochs: An array of epoch numbers.\n",
        "        train_loss: An array of training losses.\n",
        "        val_loss: An array of validation losses.\n",
        "        train_err: An array of training errors.\n",
        "        val_err: An array of validation errors.\n",
        "    \"\"\"\n",
        "    import matplotlib.pyplot as plt\n",
        "    plt.title(\"Train vs Validation Error\")\n",
        "    plt.plot(epochs, train_err, label=\"Train\")\n",
        "    plt.plot(epochs, val_err, label=\"Validation\")\n",
        "    plt.xlabel(\"Epoch\")\n",
        "    plt.ylabel(\"Error\")\n",
        "    plt.legend(loc='best')\n",
        "    plt.show()\n",
        "    plt.title(\"Train vs Validation Loss\")\n",
        "    plt.plot(epochs, train_loss, label=\"Train\")\n",
        "    plt.plot(epochs, val_loss, label=\"Validation\")\n",
        "    plt.xlabel(\"Epoch\")\n",
        "    plt.ylabel(\"Loss\")\n",
        "    plt.legend(loc='best')\n",
        "    plt.show()\n"
      ]
    },
    {
      "cell_type": "code",
      "execution_count": null,
      "metadata": {
        "id": "8fVYcpRehx9M"
      },
      "outputs": [],
      "source": [
        "\n",
        "def evaluate(net, loader, criterion):\n",
        "    total_loss = 0.0\n",
        "    total_err = 0.0\n",
        "    total_epoch = 0\n",
        "    y_true = []\n",
        "    y_pred = []\n",
        "\n",
        "    net.eval()  # Set the model to evaluation mode\n",
        "\n",
        "    with torch.no_grad():  # Disable gradient computation for evaluation\n",
        "        for i, data in enumerate(loader, 0):\n",
        "            inputs, labels = data\n",
        "            inputs, labels = inputs.to(device), labels.to(device)  # Move data to GPU\n",
        "\n",
        "            outputs = net(inputs)\n",
        "            loss = criterion(outputs, labels.long())\n",
        "            _, predicted = torch.max(outputs.data, 1)\n",
        "            corr = predicted != labels\n",
        "            total_err += int(corr.sum())\n",
        "            total_loss += loss.item()\n",
        "            total_epoch += len(labels)\n",
        "\n",
        "            # Collect predictions and true labels\n",
        "            y_true.extend(labels.cpu().numpy())  # Move back to CPU for analysis\n",
        "            y_pred.extend(predicted.cpu().numpy())\n",
        "\n",
        "    err = float(total_err) / total_epoch\n",
        "    loss = float(total_loss) / (i + 1)\n",
        "    return err, loss, y_true, y_pred\n",
        "\n",
        "def trainModel(model, X_train, Y_train, X_val, Y_val, batch_size=25, num_epochs=1, learn_rate=0.001, momentum=0.6, step_size=10, gamma=0.1):\n",
        "    torch.manual_seed(1000)\n",
        "\n",
        "    # Move the model to GPU\n",
        "    model = model.to(device)\n",
        "    weights = torch.tensor([0.75, 0.85, 1.8, 1.85, 1.25, 0.95, 0.95])\n",
        "    criterion = nn.CrossEntropyLoss(weight=weights).to(device)\n",
        "    optimizer = optim.Adam(model.parameters(), lr=learn_rate)\n",
        "    scheduler = StepLR(optimizer, step_size=step_size, gamma=gamma)\n",
        "\n",
        "    train_err = np.zeros(num_epochs)\n",
        "    train_loss = np.zeros(num_epochs)\n",
        "    val_err = np.zeros(num_epochs)\n",
        "    val_loss = np.zeros(num_epochs)\n",
        "\n",
        "    # Convert data to tensors and move them to GPU\n",
        "    X_train_tensor = torch.tensor(X_train.to_numpy(), dtype=torch.float32).to(device)\n",
        "    Y_train_tensor = torch.tensor(np.argmax(Y_train, axis=1), dtype=torch.long).to(device)\n",
        "\n",
        "    X_val_tensor = torch.tensor(X_val.to_numpy(), dtype=torch.float32).to(device)\n",
        "    Y_val_tensor = torch.tensor(np.argmax(Y_val, axis=1), dtype=torch.long).to(device)\n",
        "\n",
        "    train_dataset = torch.utils.data.TensorDataset(X_train_tensor, Y_train_tensor)\n",
        "    train_loader = torch.utils.data.DataLoader(train_dataset, batch_size=batch_size, shuffle=True)\n",
        "\n",
        "    val_dataset = torch.utils.data.TensorDataset(X_val_tensor, Y_val_tensor)\n",
        "    val_loader = torch.utils.data.DataLoader(val_dataset, batch_size=batch_size, shuffle=False)\n",
        "\n",
        "    print(\"Training Started...\")\n",
        "    final_y_true = []\n",
        "    final_y_pred = []\n",
        "\n",
        "    for epoch in range(num_epochs):\n",
        "        total_train_loss = 0.0\n",
        "        total_train_err = 0.0\n",
        "        total_epoch = 0\n",
        "\n",
        "        model.train()\n",
        "\n",
        "        for i, data in enumerate(train_loader):\n",
        "            inputs, labels = data\n",
        "            inputs, labels = inputs.to(device), labels.to(device)  # Move data to GPU\n",
        "\n",
        "            optimizer.zero_grad()\n",
        "            outputs = model(inputs)\n",
        "            loss = criterion(outputs, labels)\n",
        "            loss.backward()\n",
        "            optimizer.step()\n",
        "            total_train_loss += loss.item()\n",
        "\n",
        "            _, predicted = torch.max(outputs.data, 1)\n",
        "            corr = predicted != labels\n",
        "\n",
        "            total_train_err += int(corr.sum())\n",
        "            total_epoch += len(labels)\n",
        "\n",
        "        train_err[epoch] = float(total_train_err) / total_epoch\n",
        "        train_loss[epoch] = float(total_train_loss) / (i + 1)\n",
        "\n",
        "        # Evaluate on validation set\n",
        "        val_err[epoch], val_loss[epoch], y_true, y_pred = evaluate(model, val_loader, criterion)\n",
        "\n",
        "        # Store the final predictions for the confusion matrix\n",
        "        if epoch == num_epochs - 1:\n",
        "            final_y_true = y_true\n",
        "            final_y_pred = y_pred\n",
        "\n",
        "        # Step the scheduler\n",
        "        scheduler.step()\n",
        "\n",
        "        print(f\"Epoch {epoch + 1}: Train err: {train_err[epoch]:.4f}, Train loss: {train_loss[epoch]:.4f} | \"\n",
        "              f\"Validation err: {val_err[epoch]:.4f}, Validation loss: {val_loss[epoch]:.4f}\")\n",
        "        print(f\"Learning Rate: {scheduler.get_last_lr()[0]:.6f}\")\n",
        "\n",
        "    print('Finished Training')\n",
        "    epochs = np.arange(1, num_epochs + 1)\n",
        "    np.savetxt(\"{}_train_err.csv\".format(model.name), train_err)\n",
        "    np.savetxt(\"{}_train_loss.csv\".format(model.name), train_loss)\n",
        "    np.savetxt(\"{}_val_err.csv\".format(model.name), val_err)\n",
        "    np.savetxt(\"{}_val_loss.csv\".format(model.name), val_loss)\n",
        "\n",
        "    plot_training_curve(epochs, train_loss, val_loss, train_err, val_err)\n",
        "\n",
        "    # Generate the confusion matrix and classification report at the end of training\n",
        "    cm = confusion_matrix(final_y_true, final_y_pred)\n",
        "    plt.figure(figsize=(10, 8))\n",
        "    sns.heatmap(cm, annot=True, fmt=\"d\", cmap=\"Blues\", xticklabels=[\"O\", \"B\", \"A\", \"F\", \"G\", \"K\", \"M\"], yticklabels=[\"O\", \"B\", \"A\", \"F\", \"G\", \"K\", \"M\"])\n",
        "    plt.xlabel(\"Predicted\")\n",
        "    plt.ylabel(\"True\")\n",
        "    plt.title(\"Confusion Matrix for Primary Model\")\n",
        "    plt.show()\n",
        "\n",
        "    class_names = [\"O\", \"B\", \"A\", \"F\", \"G\", \"K\", \"M\"]\n",
        "    report = classification_report(final_y_true, final_y_pred, target_names=class_names)\n",
        "    print(\"Classification Report:\")\n",
        "    print(report)\n",
        "\n"
      ]
    },
    {
      "cell_type": "code",
      "execution_count": null,
      "metadata": {
        "id": "mZdo9ktjdJ6j",
        "colab": {
          "base_uri": "https://localhost:8080/",
          "height": 365
        },
        "outputId": "633c207a-25ba-4878-e0ae-a8ce596c03ad",
        "collapsed": true
      },
      "outputs": [
        {
          "output_type": "stream",
          "name": "stdout",
          "text": [
            "Using device: cuda\n",
            "Training Started...\n"
          ]
        },
        {
          "output_type": "error",
          "ename": "AttributeError",
          "evalue": "'StarClassifierANN' object has no attribute 'fc5'",
          "traceback": [
            "\u001b[0;31m---------------------------------------------------------------------------\u001b[0m",
            "\u001b[0;31mAttributeError\u001b[0m                            Traceback (most recent call last)",
            "\u001b[0;32m<ipython-input-15-7384a51776ae>\u001b[0m in \u001b[0;36m<cell line: 8>\u001b[0;34m()\u001b[0m\n\u001b[1;32m      6\u001b[0m \u001b[0mmodel\u001b[0m \u001b[0;34m=\u001b[0m \u001b[0mmodel\u001b[0m\u001b[0;34m.\u001b[0m\u001b[0mto\u001b[0m\u001b[0;34m(\u001b[0m\u001b[0mdevice\u001b[0m\u001b[0;34m)\u001b[0m\u001b[0;34m\u001b[0m\u001b[0;34m\u001b[0m\u001b[0m\n\u001b[1;32m      7\u001b[0m \u001b[0;34m\u001b[0m\u001b[0m\n\u001b[0;32m----> 8\u001b[0;31m \u001b[0mtrainModel\u001b[0m\u001b[0;34m(\u001b[0m\u001b[0mmodel\u001b[0m\u001b[0;34m,\u001b[0m \u001b[0mX_train\u001b[0m\u001b[0;34m,\u001b[0m \u001b[0my_train_OH\u001b[0m\u001b[0;34m,\u001b[0m \u001b[0mX_val\u001b[0m\u001b[0;34m,\u001b[0m \u001b[0my_val_OH\u001b[0m\u001b[0;34m,\u001b[0m \u001b[0mbatch_size\u001b[0m\u001b[0;34m=\u001b[0m\u001b[0;36m1000\u001b[0m\u001b[0;34m,\u001b[0m \u001b[0mnum_epochs\u001b[0m\u001b[0;34m=\u001b[0m\u001b[0;36m200\u001b[0m\u001b[0;34m,\u001b[0m \u001b[0mlearn_rate\u001b[0m\u001b[0;34m=\u001b[0m\u001b[0;36m0.01\u001b[0m\u001b[0;34m,\u001b[0m \u001b[0mstep_size\u001b[0m\u001b[0;34m=\u001b[0m\u001b[0;36m20\u001b[0m\u001b[0;34m,\u001b[0m \u001b[0mgamma\u001b[0m\u001b[0;34m=\u001b[0m\u001b[0;36m0.5\u001b[0m\u001b[0;34m)\u001b[0m\u001b[0;34m\u001b[0m\u001b[0;34m\u001b[0m\u001b[0m\n\u001b[0m",
            "\u001b[0;32m<ipython-input-14-de25835907a3>\u001b[0m in \u001b[0;36mtrainModel\u001b[0;34m(model, X_train, Y_train, X_val, Y_val, batch_size, num_epochs, learn_rate, momentum, step_size, gamma)\u001b[0m\n\u001b[1;32m     73\u001b[0m \u001b[0;34m\u001b[0m\u001b[0m\n\u001b[1;32m     74\u001b[0m             \u001b[0moptimizer\u001b[0m\u001b[0;34m.\u001b[0m\u001b[0mzero_grad\u001b[0m\u001b[0;34m(\u001b[0m\u001b[0;34m)\u001b[0m\u001b[0;34m\u001b[0m\u001b[0;34m\u001b[0m\u001b[0m\n\u001b[0;32m---> 75\u001b[0;31m             \u001b[0moutputs\u001b[0m \u001b[0;34m=\u001b[0m \u001b[0mmodel\u001b[0m\u001b[0;34m(\u001b[0m\u001b[0minputs\u001b[0m\u001b[0;34m)\u001b[0m\u001b[0;34m\u001b[0m\u001b[0;34m\u001b[0m\u001b[0m\n\u001b[0m\u001b[1;32m     76\u001b[0m             \u001b[0mloss\u001b[0m \u001b[0;34m=\u001b[0m \u001b[0mcriterion\u001b[0m\u001b[0;34m(\u001b[0m\u001b[0moutputs\u001b[0m\u001b[0;34m,\u001b[0m \u001b[0mlabels\u001b[0m\u001b[0;34m)\u001b[0m\u001b[0;34m\u001b[0m\u001b[0;34m\u001b[0m\u001b[0m\n\u001b[1;32m     77\u001b[0m             \u001b[0mloss\u001b[0m\u001b[0;34m.\u001b[0m\u001b[0mbackward\u001b[0m\u001b[0;34m(\u001b[0m\u001b[0;34m)\u001b[0m\u001b[0;34m\u001b[0m\u001b[0;34m\u001b[0m\u001b[0m\n",
            "\u001b[0;32m/usr/local/lib/python3.10/dist-packages/torch/nn/modules/module.py\u001b[0m in \u001b[0;36m_wrapped_call_impl\u001b[0;34m(self, *args, **kwargs)\u001b[0m\n\u001b[1;32m   1734\u001b[0m             \u001b[0;32mreturn\u001b[0m \u001b[0mself\u001b[0m\u001b[0;34m.\u001b[0m\u001b[0m_compiled_call_impl\u001b[0m\u001b[0;34m(\u001b[0m\u001b[0;34m*\u001b[0m\u001b[0margs\u001b[0m\u001b[0;34m,\u001b[0m \u001b[0;34m**\u001b[0m\u001b[0mkwargs\u001b[0m\u001b[0;34m)\u001b[0m  \u001b[0;31m# type: ignore[misc]\u001b[0m\u001b[0;34m\u001b[0m\u001b[0;34m\u001b[0m\u001b[0m\n\u001b[1;32m   1735\u001b[0m         \u001b[0;32melse\u001b[0m\u001b[0;34m:\u001b[0m\u001b[0;34m\u001b[0m\u001b[0;34m\u001b[0m\u001b[0m\n\u001b[0;32m-> 1736\u001b[0;31m             \u001b[0;32mreturn\u001b[0m \u001b[0mself\u001b[0m\u001b[0;34m.\u001b[0m\u001b[0m_call_impl\u001b[0m\u001b[0;34m(\u001b[0m\u001b[0;34m*\u001b[0m\u001b[0margs\u001b[0m\u001b[0;34m,\u001b[0m \u001b[0;34m**\u001b[0m\u001b[0mkwargs\u001b[0m\u001b[0;34m)\u001b[0m\u001b[0;34m\u001b[0m\u001b[0;34m\u001b[0m\u001b[0m\n\u001b[0m\u001b[1;32m   1737\u001b[0m \u001b[0;34m\u001b[0m\u001b[0m\n\u001b[1;32m   1738\u001b[0m     \u001b[0;31m# torchrec tests the code consistency with the following code\u001b[0m\u001b[0;34m\u001b[0m\u001b[0;34m\u001b[0m\u001b[0m\n",
            "\u001b[0;32m/usr/local/lib/python3.10/dist-packages/torch/nn/modules/module.py\u001b[0m in \u001b[0;36m_call_impl\u001b[0;34m(self, *args, **kwargs)\u001b[0m\n\u001b[1;32m   1745\u001b[0m                 \u001b[0;32mor\u001b[0m \u001b[0m_global_backward_pre_hooks\u001b[0m \u001b[0;32mor\u001b[0m \u001b[0m_global_backward_hooks\u001b[0m\u001b[0;34m\u001b[0m\u001b[0;34m\u001b[0m\u001b[0m\n\u001b[1;32m   1746\u001b[0m                 or _global_forward_hooks or _global_forward_pre_hooks):\n\u001b[0;32m-> 1747\u001b[0;31m             \u001b[0;32mreturn\u001b[0m \u001b[0mforward_call\u001b[0m\u001b[0;34m(\u001b[0m\u001b[0;34m*\u001b[0m\u001b[0margs\u001b[0m\u001b[0;34m,\u001b[0m \u001b[0;34m**\u001b[0m\u001b[0mkwargs\u001b[0m\u001b[0;34m)\u001b[0m\u001b[0;34m\u001b[0m\u001b[0;34m\u001b[0m\u001b[0m\n\u001b[0m\u001b[1;32m   1748\u001b[0m \u001b[0;34m\u001b[0m\u001b[0m\n\u001b[1;32m   1749\u001b[0m         \u001b[0mresult\u001b[0m \u001b[0;34m=\u001b[0m \u001b[0;32mNone\u001b[0m\u001b[0;34m\u001b[0m\u001b[0;34m\u001b[0m\u001b[0m\n",
            "\u001b[0;32m<ipython-input-12-b84ed64f1637>\u001b[0m in \u001b[0;36mforward\u001b[0;34m(self, x)\u001b[0m\n\u001b[1;32m     22\u001b[0m         \u001b[0mx\u001b[0m \u001b[0;34m=\u001b[0m \u001b[0mself\u001b[0m\u001b[0;34m.\u001b[0m\u001b[0mactivation_function\u001b[0m\u001b[0;34m(\u001b[0m\u001b[0mself\u001b[0m\u001b[0;34m.\u001b[0m\u001b[0mfc3\u001b[0m\u001b[0;34m(\u001b[0m\u001b[0mx\u001b[0m\u001b[0;34m)\u001b[0m\u001b[0;34m)\u001b[0m\u001b[0;34m\u001b[0m\u001b[0;34m\u001b[0m\u001b[0m\n\u001b[1;32m     23\u001b[0m         \u001b[0mx\u001b[0m \u001b[0;34m=\u001b[0m \u001b[0mself\u001b[0m\u001b[0;34m.\u001b[0m\u001b[0mactivation_function\u001b[0m\u001b[0;34m(\u001b[0m\u001b[0mself\u001b[0m\u001b[0;34m.\u001b[0m\u001b[0mfc4\u001b[0m\u001b[0;34m(\u001b[0m\u001b[0mx\u001b[0m\u001b[0;34m)\u001b[0m\u001b[0;34m)\u001b[0m\u001b[0;34m\u001b[0m\u001b[0;34m\u001b[0m\u001b[0m\n\u001b[0;32m---> 24\u001b[0;31m         \u001b[0mx\u001b[0m \u001b[0;34m=\u001b[0m \u001b[0mself\u001b[0m\u001b[0;34m.\u001b[0m\u001b[0mactivation_function\u001b[0m\u001b[0;34m(\u001b[0m\u001b[0mself\u001b[0m\u001b[0;34m.\u001b[0m\u001b[0mfc5\u001b[0m\u001b[0;34m(\u001b[0m\u001b[0mx\u001b[0m\u001b[0;34m)\u001b[0m\u001b[0;34m)\u001b[0m\u001b[0;34m\u001b[0m\u001b[0;34m\u001b[0m\u001b[0m\n\u001b[0m\u001b[1;32m     25\u001b[0m         \u001b[0mx\u001b[0m \u001b[0;34m=\u001b[0m \u001b[0mself\u001b[0m\u001b[0;34m.\u001b[0m\u001b[0mfc6\u001b[0m\u001b[0;34m(\u001b[0m\u001b[0mx\u001b[0m\u001b[0;34m)\u001b[0m  \u001b[0;31m# Output layer without activation (logits)\u001b[0m\u001b[0;34m\u001b[0m\u001b[0;34m\u001b[0m\u001b[0m\n\u001b[1;32m     26\u001b[0m         \u001b[0;32mreturn\u001b[0m \u001b[0mx\u001b[0m\u001b[0;34m\u001b[0m\u001b[0;34m\u001b[0m\u001b[0m\n",
            "\u001b[0;32m/usr/local/lib/python3.10/dist-packages/torch/nn/modules/module.py\u001b[0m in \u001b[0;36m__getattr__\u001b[0;34m(self, name)\u001b[0m\n\u001b[1;32m   1929\u001b[0m             \u001b[0;32mif\u001b[0m \u001b[0mname\u001b[0m \u001b[0;32min\u001b[0m \u001b[0mmodules\u001b[0m\u001b[0;34m:\u001b[0m\u001b[0;34m\u001b[0m\u001b[0;34m\u001b[0m\u001b[0m\n\u001b[1;32m   1930\u001b[0m                 \u001b[0;32mreturn\u001b[0m \u001b[0mmodules\u001b[0m\u001b[0;34m[\u001b[0m\u001b[0mname\u001b[0m\u001b[0;34m]\u001b[0m\u001b[0;34m\u001b[0m\u001b[0;34m\u001b[0m\u001b[0m\n\u001b[0;32m-> 1931\u001b[0;31m         raise AttributeError(\n\u001b[0m\u001b[1;32m   1932\u001b[0m             \u001b[0;34mf\"'{type(self).__name__}' object has no attribute '{name}'\"\u001b[0m\u001b[0;34m\u001b[0m\u001b[0;34m\u001b[0m\u001b[0m\n\u001b[1;32m   1933\u001b[0m         )\n",
            "\u001b[0;31mAttributeError\u001b[0m: 'StarClassifierANN' object has no attribute 'fc5'"
          ]
        }
      ],
      "source": [
        "train_loader = torch.utils.data.DataLoader(train_set, batch_size=1000, shuffle=False)\n",
        "val_loader = torch.utils.data.DataLoader(val_set, batch_size=1000, shuffle=False)\n",
        "device = torch.device(\"cuda\" if torch.cuda.is_available() else \"cpu\")\n",
        "print(f\"Using device: {device}\")\n",
        "model = StarClassifierANN(activation_function=nn.LeakyReLU(negative_slope=0.01))\n",
        "model = model.to(device)\n",
        "\n",
        "trainModel(model, X_train, y_train_OH, X_val, y_val_OH, batch_size=1000, num_epochs=200, learn_rate=0.01, step_size=20, gamma=0.5)"
      ]
    },
    {
      "cell_type": "markdown",
      "metadata": {
        "id": "HiQwmVDfSf1g"
      },
      "source": [
        "## Visualizing the model\n",
        "\n",
        "Below are the temperature classifications for each spectral type\n",
        "- O : > 30,000\n",
        "- B : 10,000 ~ 28,000\n",
        "- A : 7,500 ~ 10,000\n",
        "- F : 6,000 ~ 7,500\n",
        "- G : 5,000 ~ 6,000\n",
        "- K : 3,500 ~ 5,000\n",
        "- M : 2,500 ~ 3,500"
      ]
    },
    {
      "cell_type": "code",
      "source": [
        "X_test_tensor = torch.tensor(X_test.to_numpy(), dtype=torch.float32).to(device)\n",
        "Y_test_tensor = torch.tensor(np.argmax(y_test_OH, axis=1), dtype=torch.long).to(device)\n",
        "\n",
        "test_dataset = torch.utils.data.TensorDataset(X_test_tensor, Y_test_tensor)\n",
        "test_loader = torch.utils.data.DataLoader(test_dataset, batch_size=1000, shuffle=True)\n",
        "\n",
        "error, loss, y1, y2 = evaluate(model, test_loader, nn.CrossEntropyLoss())\n",
        "\n",
        "print(f\"Test Accuracy: {1 - error:.4f}\")\n",
        "print(f\"Test Loss: {loss:.4f}\")\n"
      ],
      "metadata": {
        "id": "k_v0qIKYv8f4"
      },
      "execution_count": null,
      "outputs": []
    },
    {
      "cell_type": "code",
      "source": [
        "import numpy as np\n",
        "import matplotlib.pyplot as plt\n",
        "import random\n",
        "\n",
        "# Mapping spectral classes to temperature ranges\n",
        "spectral_class_to_temp = {\n",
        "    0: (30000, 40000),  # O\n",
        "    1: (10000, 30000),  # B\n",
        "    2: (7500, 10000),   # A\n",
        "    3: (6000, 7500),    # F\n",
        "    4: (5000, 6000),    # G\n",
        "    5: (3500, 5000),    # K\n",
        "    6: (2500, 3500)     # M\n",
        "}\n",
        "\n",
        "def get_temperature(spectral_class):\n",
        "    \"\"\"\n",
        "    Generate a normally distributed temperature value for a given spectral class.\n",
        "\n",
        "    Args:\n",
        "        spectral_class (int): The spectral class index (0 for O, 1 for B, ..., 6 for M).\n",
        "\n",
        "    Returns:\n",
        "        float: A temperature value for the given spectral class.\n",
        "    \"\"\"\n",
        "    temp_range = spectral_class_to_temp[spectral_class]\n",
        "    mean_temp = (temp_range[0] + temp_range[1]) / 2\n",
        "    std_dev = (temp_range[1] - mean_temp) / 1.3  # Adjusted for a tighter spread\n",
        "    return np.random.normal(mean_temp, std_dev)\n",
        "\n",
        "def scale_temperature(temperature):\n",
        "    \"\"\"\n",
        "    Scale temperature values such that each range occupies 1/7th of the x-axis.\n",
        "\n",
        "    Args:\n",
        "        temperature (float): The original temperature value.\n",
        "\n",
        "    Returns:\n",
        "        float: The scaled temperature value.\n",
        "    \"\"\"\n",
        "    for i, (low, high) in enumerate(spectral_class_to_temp.values()):\n",
        "        if low <= temperature <= high:\n",
        "            # Map the temperature linearly to [i, i+1] range\n",
        "            return i + (temperature - low) / (high - low)\n",
        "    return None  # Shouldn't happen\n",
        "\n",
        "def rescale_luminosities(scaled_luminosities, original_min, original_max):\n",
        "    \"\"\"\n",
        "    Rescale luminosities from min-max scaled values back to original values.\n",
        "\n",
        "    Args:\n",
        "        scaled_luminosities (array-like): Scaled luminosities (between 0 and 1).\n",
        "        original_min (float): Original minimum luminosity.\n",
        "        original_max (float): Original maximum luminosity.\n",
        "\n",
        "    Returns:\n",
        "        array-like: Rescaled luminosities in their original range.\n",
        "    \"\"\"\n",
        "    return scaled_luminosities * (original_max - original_min) + original_min\n",
        "\n",
        "def plot_hr_diagram(model, loader, original_min_lumFlame, original_max_lumFlame):\n",
        "    \"\"\"\n",
        "    Plot the Hertzsprung-Russell diagram based on model predictions and data.\n",
        "\n",
        "    Args:\n",
        "        model: The trained PyTorch model.\n",
        "        loader: DataLoader with the input data.\n",
        "        original_min_lumFlame: Original minimum luminosity before scaling.\n",
        "        original_max_lumFlame: Original maximum luminosity before scaling.\n",
        "    \"\"\"\n",
        "    # Step 1: Get luminosities and spectral type predictions\n",
        "    model.eval()\n",
        "    scaled_luminosities = []\n",
        "    spectral_classes = []\n",
        "\n",
        "    with torch.no_grad():\n",
        "        for data in loader:\n",
        "            inputs, labels = data\n",
        "            outputs = model(inputs)\n",
        "            _, preds = torch.max(outputs, 1)  # Get predicted spectral class\n",
        "            scaled_luminosities.extend(inputs[:, 3].cpu().numpy())  # Assuming luminosity is the 4th input feature\n",
        "            spectral_classes.extend(preds.cpu().numpy())\n",
        "\n",
        "    # Step 2: Rescale luminosities to original values\n",
        "    original_luminosities = rescale_luminosities(\n",
        "        np.array(scaled_luminosities), original_min_lumFlame, original_max_lumFlame\n",
        "    )\n",
        "\n",
        "    # Step 3: Convert spectral classes to temperatures\n",
        "    temperatures = [get_temperature(cls) for cls in spectral_classes]\n",
        "\n",
        "    # Step 4: Randomly sample 1/8th of the data points\n",
        "    total_points = len(temperatures)\n",
        "    sample_indices = random.sample(range(total_points), total_points // 10)\n",
        "    temperatures = np.array(temperatures)[sample_indices]\n",
        "    original_luminosities = np.array(original_luminosities)[sample_indices]\n",
        "    spectral_classes = np.array(spectral_classes)[sample_indices]\n",
        "\n",
        "    # Step 5: Scale temperatures to occupy equal space on x-axis\n",
        "    scaled_temperatures = [scale_temperature(temp) for temp in temperatures]\n",
        "\n",
        "    # Step 6: Plot the HR diagram\n",
        "    plt.figure(figsize=(12, 8))\n",
        "    scatter = plt.scatter(\n",
        "        scaled_temperatures, original_luminosities,\n",
        "        c=spectral_classes, cmap='coolwarm', edgecolor='k', s=10  # Red-to-blue colormap\n",
        "    )\n",
        "    plt.colorbar(scatter, label='Spectral Class (0=O, 6=M)')\n",
        "    plt.yscale('log')  # Set y-axis to logarithmic scale\n",
        "    plt.xlabel('Temperature (K)')\n",
        "    plt.ylabel('Luminosity (L/L$_\\odot$)')\n",
        "    plt.title('Hertzsprung-Russell Diagram')\n",
        "\n",
        "    # Custom ticks for temperature ranges\n",
        "    plt.xticks(\n",
        "        np.arange(7),  # One tick per spectral class\n",
        "        [\"40,000\", \"30,000\", \"10,000\", \"7,500\",\n",
        "         \"6,000\", \"5,000\", \"3,500\"],\n",
        "        rotation=45\n",
        "    )\n",
        "    plt.yticks([1e-2, 1, 1e2, 1e4], [\"$10^{-2}$\", \"1\", \"$10^{2}$\", \"$10^{4}$\"])  # Exponential scale\n",
        "    plt.show()"
      ],
      "metadata": {
        "id": "DJzs2lebc8ib"
      },
      "execution_count": null,
      "outputs": []
    },
    {
      "cell_type": "code",
      "source": [
        "plot_hr_diagram(model, test_loader, original_min_lumFlame, original_max_lumFlame)"
      ],
      "metadata": {
        "id": "xyXPQ8E76hR6"
      },
      "execution_count": null,
      "outputs": []
    },
    {
      "cell_type": "markdown",
      "source": [
        "![HRDiagram.png](data:image/png;base64,iVBORw0KGgoAAAANSUhEUgAAAtAAAAM0BAMAAABg2wiPAAAAMFBMVEUAAAB1///A//+vwP///////8///wD/fwD/AAD/AP/VAAAAAP8AAAAAAAAAAAAAAABMoKkBAAAACXBIWXMAAABIAAAASABGyWs+AABKQklEQVR42u2dPW/byvbuJzQ5c8jT5Gz8m9txC27SGfD9ADyGfIF0xIUlIN00prG7qUzsVKc8JW+Q7IC7YhfsVKc/X+6utWb4IonUKymR8jCOYyuyLP+0/Myz1qyZYcxe9rKXvexlL3uN/PrHP9633RzC3/mceRZQT9c7eqsvXoN2GYss6DOAjoC1Bd0jaKA6C5k7j5i3iBOp1N/+/S8DGqSDJ5KJlDG4zV4naTRI9Iw5gNVlMfM4S9m/2N9q0BKCXDH1N7jNXqfF9HugWoImqn/797+bEZ3ATRZzL+qBoOfgMQzojYi20tHTYKgjmm2CdjVoZmO6H9ArGl2B1vbOanSPCUvDdTCJGv2vf1UJC7gOaaWjpyu0CCxoC9pe9rKXvd6a01r93JnNtqmnu/sRFwswbLsvtHAHPE+Rot876vo3/P3bpY0i5A7v1wcp5zTQHmV7Oy9ISg4BjQnMkT8jQv73pQP6/VppeBfoKNoH9D4BTawPAS2YBb0G2tsT9EGXUkeD/hu+jQ70Vo1299AOb7EYAnTKrgz01ojeC/S+EZ0kZ4po9q9/TQ70fD5BjZ4g6EiX5i8C+njXwUZQbz3Q3vUH+gh7J6YM+rCExZ3j266EJd4vpJPksISFpUeGNFa1j69sQ0AkzF6DXxAN8jCNs9exEW1BW9AW9JontlfH9XgP1x1LjEKfCBrf3W25w92uR7jb47vc9HKXw+99czqb3iLagragRwX6VB9tQe8F+vTLgj4naHtZ0Ba0BX3og4Elb7zdrOjaHbu5r9/uNvQY/Dy8df1veaeuR6+l9P5+113WhoV97t3xfW/wu+0l6/2Chuew+na38lThT/3W8kPB7az7f/Uz73j0lR9u111W7n63z727vm/7a3MzOGi2BvpmNXRWQN+1PL8a9F1niHQ8+iF36QK97d7tP9XddtCNl2RY0HfdoO/bnt/9Pev8302K7S/Gzf3drrus/hbtd+/2n4pA36BW3eOTx49QXPSPcH83HOiVX8RDQTfu0Al6N8XuJ3AK6Ju7btBa6qofTYsLPe7ZIvow6bjTMr1dOm52/6bfHCAdwOJk6YAh3IDGj+BTA5p+P88DemV02TUY3rAG6OMHQ7bPXZoeZb97tz+oiWhWRbR53cofYSjQG67jphv0xk91w9iW/20DfXPkXVZ/j/a5d9eDtkiHBn0zsHSs+2h21+2jb1oGuu7/bfOz7a/GHnfp8tHd9+540HIwRND35pmjYtyg+A05GL6162Z7QWxAH21BW9C2qGRBW9AWtAVtLwv6sqC3Fq4t6N4uz0a0lQ4L2oK2oC1oC9qCtqAtaAvagragLWgL2oK2oC1oC9qCtqAtaAvagragLWgL2oK2oC1oC9qCtqAt6DcN2nYqneeynUpWOixoC/psbDjtsIlbrvLEvFnQA4BGtIxz5C2Z1G8W9DARbUFb0NcO+ub+/n9bnjaiLWgLul/QoQVtfbTNDCdwZRb0WwM9TnEWNqInF9F5bkEPevk5Is78/aLagj4ScZ5nVURb0MMQXgFrI7rfSxNuUWMLerggtqCHiOFdEFGjfQt6QMI2BT9RJPJhHt2zDTT+MCFsI3pgjbCg1yM4P+t3nTBoflwAnxnw24lo/6J8zRVcL+gqfrNxPJ9pgI4ny/e6pKNSh8vqw1RBe/sG7+ii9woiOs8nELwTBd1kO4nYHSHoaCfYSbM9O2g/P+S6ErCXi+iQvenLgraD4YGpigU9mazd+mgL2oK2oC3o67r81lJAdlWg+RhAZ9vbZ7KriOjYgj7sS5wJSweS9OFPlmcgIxnLMj/3ddO078PHrCwpjCSi6Su9CYIGlAQ6R9j0b4Z/sSEPOOMHpl/M7kBz6pXriK7+6vd5Toyzqi1vkB1o3r+pfDsrQeNkhAHtVzdfWDqia/ktyBqgM/p8DXQlHdZH9wA6rzQ6a2g0W9FoC/r0hCVvuA5Wug7f16NkNlLQ8WQju4ZvU3ALevKhnjXEJLMRfcHLgr4i0OFAz11a0MdfkY3okx/M3f0fYy0rFVajbUSHAz7pQ8SZDx3PwcQi2rUR3deDhZOFJC4JWu/Itsd2bA6z1wmg9c7GdifHc0T00aB705B4VOIwPtBXnprsAp0k8iTQO7Y1zq10HFc5ODSi/T3WTMQWdB/Sca2rUw6XjqE12r8C+Qj6iOgDNfrAbY2d6wzqzN8T9D1cd3oklP39enTKR36oE/FGruX7gm7+HIOAfn/4mNjvdXJVSfUT0cdKx9Gm/AyLuOVZI9o/cLddnrBzgI52BLU3MeeX+dk4dnIMLxPUZ7gmsa3xvqjj8TIutzUe+d6k7YtsPHameUNxEuKm9o0ZdHgZ/3Fiha5j74ULa7SzS6bPhroHB9K54U1wlOs4r3S0CYg7OpnuQhycgU3PD+ZfwoGoE6L4jGxOfrBo5e5+i/DFl3Mh/hbExUhBh10K7W6Gz460ZSdg2RfhoYaNS0S00/6relFTPPheTiNpoIk062xHIj7EUHeN+0c7bUrd/HCPASjuLYT3IqxOthsXiujwgOy2b4980Q3fzgH63UG4vRJJTzz87j021ZWB7mWQ8o4K3h5er2LUoJ1jvlm0IyK3CPj4t4M8U0SHfcvA2jV0ojh20CGz1/Cg3+9ln932JxGPAU4xNekYtEV66D2sxCRAvztw7OsnkOUIg37os7KcwSN6+PAtTkoJB47oXzvHQ/esT6mvKxi5dIwY3Rl0+WKDYcYmfBUjBe1s/hP62QHf3L0u5uetdeQ9Pon9bZ26qGYMCrorV/F7Ew/OJnaduXpnSEfb77WXmx4od1R9243zpuDhDvEY7xVMJ6Kj1ZDeM3vxtn66b/J3cI4oJi0dTiOm846vs7sbHPdg71Y/cnY6D2ZBn/JgTqnQ4abzcC3oYR9s3eNFbwL6JWod4xYPsTUdLMYJ2nHaTLM/hXVZouepxOHnDEO2Nhr2mSBeJLZHCHrWccfeQ7rfjFwN8KoNrdEh/ekkHY0keNWenMVoQZeO2tnuPM5Sxrhe1/G+Brsav+5YZfqQiNVHJeiuqKz+IfUiyuysoHUYZ/o5rAnI9HeUKM+k8JvRpG9q/GzZeaTjCwDOWOtu7Pm1gs5WftxzgHbw27zXEb0Zv0e56Vg7jP4XBKjDrUYNOsvwYJtMH46l0W6cljVwRJf65Wa7U/HqGnZdheg3olGj6eAVXx+OVYJePy1r4LOyDGi3dQJ82AGR98A8oLp/UH3WFdErRwnhUSybp2V5w0W0Q5CdkL5TFrYMlGeyHnJf9dg7XwmQJVItWkG3nZY1nHSgfw6Rr29GxbYM8Qykh5jGJU/XHdFtp2UNrdGO/j6hH/ZI+pRfQ7F/bLdNFxb1quo10H6Da8tpWe6JwdK5HVtYeriQPLS/lhuaGZhoO2nvwkmjavFK1TOuB0M6iSzL9OFYGO8tp2WdAhrxtm0w2OjV/VBFNOvo/8/PSKkfyei6sjLk+0/Bd+/k6FMwRx3nR20n7cVjOcWiKIN5672y4WodO0C/h0B+h94i3Po08lO+/3DBr7okoyvY2ZlAb2xr7JisNDSpEgtD1jUiulsywcGkRWwfMgOMZLFbMo41Cj1KR8j+F9b+8Uk6257puMsetLpOjBo0c3SyAsMjge78Znl29onwPcgFlTAXa3I9NtCYFYahrnP4bM13uEf56bbhkfOBlgf5PS7BHcxHl65D5+HwURht++ZtP1HPAi0P839+x4Lc4gKgdz8YJithjgOjf2saltyun2uA8sWxqeEK5aAXRz5oPTpkH4xQ7zF3haS9M+fa24a/nb56VBFdFjvA2WU71xu2CmJ0EZPR6+t2HtChQ0LttGUs7oGmv59Q38CnVihnw7x+Q4P+Qjl4CKA/sLmz6/s1hLrHkZDvmUWuUy46Td/oQOs49pE222+L9mEr1Kr7VqMYYi07DKYS0ZmWZ1fXl7qvqA7qQ1DLg/2IaFFb9BiqJXSLOq7FaEG/L0HjOxeNHWXizraxLjo8qONdkqEZye6Ybjg5YZpIA5ZOS6Pd8L2J6LBkvs9OBxjU8UlhfUzup8qoFS1GQxWjXaJsoOYsdMF6hFRWcjv3tHJPyV4O9tSqkuVsazJS7E5VgouD1muEIFmZsZn/T7Qdpi2M7hSFO1xbj1uVyjbizdRPbHHLRWM8LE7JW4YeDP1Z+A/KD+HD97uHwhWzdYIBUVuTjVUf1xW1P7cMgsHB6eHALWE6jH09BmYHbkVzcvLAV0iVNfz9f1kK+hOs6MOxfm/YTqVf3vuatsNME160aziMd6fDRw9+BHltrBP9Z9uD5rKboH+Bv7MZuGcn+oDtM47ru6Yi7Wze311F7bXYgpPcx9a9ZcXew+hZdtvlXT8U73yw984HVI3oK8HFKp7T8u2jvS3Ycdl3Y69HVbNTu9Rdaayin92r3PoZ8R3BwXfG0uarFvrUC/bVoYlZveA+OvyV9o/dFbN9o1KdHYoNv9cazyJY4X7cVWwFLU8HrUfA2RcXOTsQ2POjn6tGJndqh2wgzjuCFVNAUZbuhNquIns7jGCfiJZyL9CSSc4l1/8wnkiayOLm2MnNhOVXKt+Bvwsx+/ZDpx4K3b1Lzd5qgO5Qku77QHqtauaqiVZtRnKxYvO6jXNxmHQgaJz5SzQ+yenTlXNoS9D4h+l3jNMt+NVtoCtP52PCEuE/QNzt9s57ljbybVf3r57Ymedp6mLVFBYsOCpFaQVNR/Vqvhof1++aUV2CZry6A/0tP+sAHUFuCMPgrWOaO6Kjn+uhDqnmynlbdrLKXeHrYEJe60pQIg9YIYITix1N0IzQHggapaMdNIrEDCL6F+wKiyIkvNqO7m5kh/GOcN4DNd8nZttuENi5pNZFgWp5RVEEp6TfjR82SRKNFWWjBk1n/m4HTa8OtXa0dCqFYDtmLHKwDx2XK/u3+AL8TzRAVtqJfLdeVB5EbbCEzNAoR3Giv3Orwc/E75p0rGs035SObtDkzECeQ+fLbWic9C3dCZs8Iq0iUR80d94mKHBfNgCLDSnBwE6rmmnxOaDADooTtcOtnhpf0+hkQzow6mUTdOk6tO50gUa5yEPWqEmziywCF9tvKR2JSCvvrIqfgJj9CDo9XnAU6KbrYAnCS5KDIqtlv47QdxDwB1Mg1cbWCdv3q/I65MTbrILsk4rzvcFDAAvjSYqSoDBqUgRBH5uy9aWTsh10qCPaBQf9i0ON/yFK9oCS3JbcSsm3cVYs3VDyFGUl+GEQa7lWp2TiPYHu6r1z3r3PQmdmtn/V/UoR3C0yAg3v3X4pm4+4ZPuMhWpFxEWZ1IhSK1ShOQcnm+mhp7Ich1JDwK3JfnUxDdeQw8GjuqLJVxPBtYBm62Xrsg8dBEQFTbZjPSvLeR9ir1J4O/tK01fYRjPUMMhLxZCdIrHR41/mJ2VKqMr3+BfcM7IWhSoovBV83sjHj2Ej1wsbcp8S7y7QEM/vaN2940BuSDOwUfQhe6BxMNr+Uu/OTOLVpyh3DXp8tQKqA1esJt5lFU+JlKSiUIwyQvAePzcDWq/8rguM2dYeoXbQ1e+g3IyblSSGlc6ujRlIw8z5lZp2sS4doZfGrnTXiaJTEu3D1wip/f5brZef0uIzC37CO0jBf65iDlj21+q+HA3MfgfopDF47AAt1+qpeq3htuD84GBg+5njOLcO+g89/nWh9uKat3dKpaMZ05yrNp7VZ6Lefk1pjQ5MjH8Wetl9uXKoHgmDlYj2m0nCDtAJ2Wiqf8qEVkvg+zUrvQ6a8a2g370n0ZiFt1/dyHUc8h00Lkb1aBj1p9F85XOx8vu2oh1qLR1c6RUjFQHinwHsD/Ej+GwAByvqsQEa18niOlrcomOjM8U1NVKympjumSKoqWqsJYflEzf1aPPzdE9loXh8cFzIwSNsoglnbshyZ+0Y5b7qd7LrFtFWCRVsrTotmpVqhU66UNSg9LPD0LWBRgHJ9f9kXaCZqSuZBFsy89n69KAu8tPrgXK9FTQDx4HW+Zcw8iP2Xheld9KMj1YL2fohTqKUteg2tVZpqsmLanQUwDZF4wEiUgQg0PQfQf2SwU/1px+sgKb9OfJcL8HP2gdDzmusa6BXxz6ucwFZFkbZLtDhry5W7sJffebO2C2Y6AhbHjGmO0fE06REbg1yimi14arJ1Slt/yBNVDRBKCAx/BEg3QLjuhnYtBHYhkbriNZ7HeSHgm4VQgN6Z0Q7TjibZexXkxOGLvai57fuuwGLo3wzY900e3rEEwbtijorDG6FY2OhRCkcmCEWlULr1uKtoDfWZNNZWbLGyivQvFOj+f4RTVr2AIbOmYHtAPDzB9QScB5RFGnzsRm/jrvVOB+YwWiIUrXohhINT21qHgZ9QaEthPr5Q39aBAHOAJThvOGjM+Y3QXdoNP1JEk6uw4CUba6jBM33A/2OVr+5DDKWKA8f4LPZPNJP4YDKUrwXbdlisaknrDtTBOnW4atfBdLpFGRDBRjBSndJg04r9B+fK9nIOhIWUgzcMQxR57uyZrkrSkgv5L4aDUH8IWQz9u7dhzAEGw1Jy9zHNpo5ZIfuTutxwlE46+Bfyglvob2bqXGUki2UUROhy0spRDF6aJQOZIz1f71muafyhNx/qNm4zW19fN+JHDeE5NsxKhF+xfaOiD1sfI17SHTvGhS5JssblSKxkaWsmWyl52UDlOiUZlWEMdDGceTZarWjOBL0zkr/oaDBcOg5lnD2BWcNQ6x5fNSh7LrHuA6PHRQbqkWchSkdVXW7tCRvQpu+6KegXgOmw5l6SlcX2AQnRfThdQbe/WChM3PeOzAMzkLQ6tlDeAuh/EC74OEoeGjbkrfXS9/q6XiVjRBSoUQdxKaaJDCI4f+1MmMLmEIT/bMoA7dY78oJBgR9+IP9Gn5hs1vHnfkRiPU8DOcuy93ottHg2EMOzjs+lvyl8XldpiMhVjqyta1WRl/SlMZI9sNIBmhGQB0eoM7BykqtMdWjHZoCDyNnFkUfvrjRwzwKIY4/6tDA4TA6NA2MV2Dy7qSwUkFVGj1Zp4plakLJtqKPmRkGAb34qbn/ZOkP9tOYuuxgXT4XaO3gnNkHdjub/eNXbJ8BtY5wIPTLQHaPGOvivaIbqHJhakusUXym4U4Zxlqg62I03JzCuIeswUWnhfpppmb9/MR+g8GlA3toHPbrbDaDlJDNXPjXjdiHLGoU/6PoYL7xxq8BX59goZoMr6pFrwIj2gyLaT3hoitKIM2K0kFWpAFGd6pAM8QPcHgKWJfhHIxWo0OcCHfCd9iiRD2leC+s4UWsOn99e6DGu6VFNmCvdtlxVk5QqcqD6LkV0uZqcktRPo6DZJrqKRZq7ijSn58L2oj0tPboswyGgPUrVkhvQxBprCoxJwpdmmkxX1AWmU4ula7lKHxlwaxoNOuW7xXVjxC/0oEtqnqTnjlUtN/rd7NoaOSg2bsvMycMIWf5igJ9e3sbudE8Z2WLdNQZxvERNQ4q0GDvdlWnUSsT36oW6hQcBrq5Mlck55fCDamCaP6hi0g/85xalVi1OLwaEYtRgY4cx8kd5MtmuRM9gNFwwG3MnayNcHxUNNM8RCOoZVnQrVUFhzepyxt6GNThXM4OUr+MwipSESjxGdyG+oFThuqvPNOzWmZ2JRhzRDsfYAwM5+HsIy0Kf4CMJdJ1U7fMBI910rL11dGzP7LxxltKSlg/MokLJin4YYpioXRCE2DCQpiLzaEvGCFoQPvxF9dh4cM79gX0I4KIdtFx5Ih37rqNL41OrIwybBms4rps9oZQVqrZ8F8pNjk9tBgCa3hC6fSlYKJIi8/BjzwvCvQdpjw6bo3GbqUP2cy9DW8hI5w/RBG6aaxGfyynWsy7uu/xgCksr3xBqpjlOoapXVNW2QpnzVlwGgDRWaDPUyl6EPws1fMsLECZNoWNQBdIdSmpOJ74yaDl1n3vaHp2Bnr8Swi+I/rwAFBDbKQB0Wa60XS+GcrxEQnLZoWDGoqZfJE1XlVWnckoozIbylV6joNiAel3UOQ5FfqDgAp4P/cc+4qhQFOLb/e2xkD6l5nD8tC5hTB+AKMXzRwAPaccJTeJePWV7kb9zjv4ZW/0OTYMdJl6ownhAp2GqibB0Twr1Om0Kliz3wGzomSwqGp4l5WOXaAd591s5t+C+4jccJY/zJHx3MVEXC9tWUHt7fMNN+5VOoymbeaV99DzWErXOnSuneqXQKA4qzI7p7FRS8nveUZD409Wd5aqRrwW4wONCwudhw8gHPNfQ8hZbt2Hh3l0685JkvNo7up8JV5/Ot6h1dqVJIXm48qp0MpuSEGDIuDVw2GqSiWhiRWhFwwVhBlrHCLYugA/uAzojf2jays9m31xZ7/MZoD8Kzb7P9yWVbvc1RUPehqeuyrBNes47ka/sQ41kWQ9ZCkjCf2TmlDHuE0RdUo2GiuiRmF+pDrcdSIIqvF5zQ6eRNqtBo6BpAOu2bvZF7B3szB0HvKHB/YLRHHkkJnWxw5FmznJ7gDgWwdEWifCXxkXGNxCF02pjmE6ZYwmmxgv3bQQea73TxLUb1foTTuC3pZWyKM3wdip0SG4DifHtrD5zJn52QzSQvcWJQP1g5YClJG8369XGfFSdtCXekIO3LPkL0qa3rXUlEpRiMlcpKbwj+Mg+b1AlHuxQHpIXY9l0l2o8YOmmXD3A5i6h9kM8vCvs4i9QwOC1VGgbRZduLpW6rXos2du8PYygHrBGIlHgjPfENWUjKT4FFPTHqNedYtMykr7TKGuN7MqKN/GLt2fqXEt/bmOU0Bv9dHGS4O/wJ4OuAvENji9cE6dMxDT6PF0F41Xh/ZpFwdZpt4T0/nNsSptpqtM8wZWN4SRjFT3HigYA8sVLAJ7/FXJWByXdK9lVvdw3Z0AeufIGtFMyxdw07fhHJwe5IMg0JB6g8MDFdFuem5k2luc0AdtdmiQkrYUpN0BXsrls8pUkpBiCpeolgcpMs7Cz3Ns5tCrOfUCLIU9BpiBg5H+uWdeMlxE7yr80xukLJELcgFJ4W0ePkRhNH8ArY4o8cayulslKfHWgI43ZKtlUEwSMM56OwCu968SGNMgFxy1I9Xz3Kkpd9D01e95bua2CtMdvRrExSmMzwIar/fsl5k/Y+6tMwMP/SFzYCScz9Hh6YqSnz/WMuwdUiblNXm+kh2+UiMsfPgiXhONUwhWz3ZTuc5MFgoU56qdRqV6X4MfDcXQRX91WY3eA3Tozm4/fpk9OLe3YfQQ5YActGKOeoHSEUUmphslom2Qvc2ke704jQMhTxKU6lf1WpY3uBYRna8oo9UM0sBcpKsriX4I7AOjnpmC1oKzoAt0cBib4330zsI/GmnHYZlzC6BvZw+3HyGcUTLMlCxGtp9Hq9IQHS7VXEdLoldaA2QiniSa7wvA5aJs3lC6yw4DG4ZA06ZbtqGTtVa1KGPHY1AcX4k+X+Efg9rxsVI6f5g/sA9fndsoxJ4OiGdX2w/dOujVj3DckIg+Q0qpTwxJhOBJ+iohojkMf2ZaUK/7TrGDFNQE5wOxBi1Mw3TVldfYVTAYmE2PD+Y4zuzDlwf2z1sY/26j/AGHwVss4ZlydMQ+5tUvQNytGnGnXjcmYhP++qqrdy9YJoJhkLJCxWUKMpJSqYOGQJXn34VuEUtTXUFNiXS5zr6kXRw5iVWcFzR27TLn9sucPbDbW3B2WPF3gTnGdETNjvChaYf1dtiOHasM6WQYzl5S9pqCblDV/+VVvTChcxVjM8jaQXqiWDmPRXoC7k4v/i6nyX8G5VLlYgIRDTb6V8xUQmcW/er80507eRQ+zEE7kDR1SZNg59rcYQEpOjBxaa5y0wl4IhPso1fiFce5RLuOV6bFmOmjmaoCqe7ES+v+u3JUpCj+QZZ6EtLBnJkz+/jFnQHQGW4mkWGTI2YrNCyS9XBjPK0T3m/1cxt16bY1NiAVifYcL5CBYzwryRG4wkQFFRkx6+qdID+dmuxFUW+0aW4ywb2x/Ls4SrjPBJq5ziybzahCGj64ueOAdiDoZpm0XBwSN/ITb1vCst5EaqYHJW0RBQrymr7wl2eUEZkKs9oK1JgqR9hdJ5Tpc9SFUqULIM3dlQpT7ttLOYKLg3awT/o2n4XhPASZnrsQ3SDLaOwi7fMgJccABaF2Pa+i6+2uIbHN2UKcXXt95S+cCy6SFyGxVId5Nyk0ptrCdDEa76FTGLNIWVTERC/FpLOCDkPnPZt/iMDczdjceXDnkJHP9XxWRN27bhRTFu5RmdLbo0oqN0fBBmmeiEQC7OR1+SLEC3gKrN2pVwhmvTJIFztM2V+XO4q64dRMef04cjblchGNvs2dZa77ELkPt/PbeZhFrl4SXnaS6gmtGILaZR6SrstL8dZyx/oKTq53oUyS15c0ScBCKwCeKhgPIZi/Y22UFLnRZmfC2fR9/Fhb21JMKKLpegjzmcMAsnt7+xB+/Oq6DuTh6D3mNNmCdY9HRExKTZAXR1RIcXsz/gp5IX99eX15ASudvCQvLP0NKaeiXLFiKs3KjIDlMvt6yw6904+JZjEJ0NSPTtsLfnGcues4DzgVnuuzKsjcRY3ejoUX/988i7ukebHqSOS6WCc6eQHQSZLy5CV9hQB+SXNUZpLpVNSduiYjbAA2+xgPsCf6uSLaAcBRzkA6nAcHxDr8mOEiC0hW5u58vfk/+mgav5H0muHbkntXXQccV6ZCBi4SiOY0QcopZoQozVzPGypTdhZpWa6u8hQVNHIW1tf54mdLwVlIXQcRrsy6hZGQ5V/RbES4uDMi0wHUF56u33mUUMT1uLhf6UPqWkeCLlqmCROvL6AYOVepZK8K6/2p0r0zwtRHV79e6O2MjfEotmXU2/PtC4EOqdGf/Y/z4evMjR5mc7Ad0a2bo2bMTbkDs3FtqWlGa0G5W+xtMt6Vn3O9xUWCvHEb6Zf0BStKqVKSpr6p/dlIxuom0isHCym9hFNNTjpwnb07yx8eQhgB0djN5x8zTAsjpE7eA//G7mzhmSppTIdW1NO1sbdGu3VpJ+31+col7lb/B2j0C/iN11ekLZXWaN3en+o5FibacYpj686XBR2+Y+yfLHwAtnO0GkA6jDDljnCycI5j4bxeM7TAgNaPpTf3P6Rmih6adkQHeX5NgPALB8q4ehDfYdlIYe9dykyPbqOywQY6GeSsEf3enTnuLMx1PN/iIOiwnM1JO/CPG+NHnvkT1R7D3+vUTGn6+/UxIJxz+fKCxiNNUTteU1pzlZIDYWm5D6kwO5KaxLCldlRMC7SD67AiBw/7hZB+mGtpvsUpLPiYJrXwHShCpIXhqRnFnjlFZcc3983W/hLnWHDX/OTl5VUqMNECBeSF2sBochbL/qlp4W3aiqPCORibRoPxgHQlgpC+xUpSSJH8MZ/T6llweI8M8EZGjZnneri3UkzKbJjnjWMS+BrfKupxlRAT/OUFUMO7l0ShPkuQaP5Kg6HQlSUm6v2qhtWMM4J2aNvdyMHK6Mcv4Rz3CgPAKNAfv2JtCculHri7J6YHwniBrIGyp7FvnOvUuLKyiFdt1YfVOwGmQybpCwR3KkE+ZAqYE6x4YLeB0AUmVi23UGJw1MOelVWPho4LLi9yGKm0A3AfHrDbYO5/xXwFB8gYYnsxZ4toURkKz4tj3Ul62GiI+7bIV/YiEnRzL1Kkr5CNo7XD5JCK/Ka2scdBFj1d3tl+PWYOzmiFH78wrHZED3ikIWQuOai2i6U8QMzY49y4N4jl2BD3OhxzW7GUmyxc4jTWawK+IwV3BxnLy4uQmK6k5Yy32Zij6pbp285drqgEWct8Dgli7uJgSNuiuCEoSP6VzWmxxYx5iyfmenVZY0G5obfvpBavcxag94ruDme0xMurUEKibabkMC33t6siWlT60WsJ+kKgAfUtOrsPX8HmhRDLIRb/I2zqwAW16PoojmFIXGAYG332YqPTzOv+9ZPNGOdU+qcTfECkJTk6hgYPA7pqSDeZ4YYyqysAjfusuZAe3lLWMkfINJmF3gNuwc+Z+4SarAUjjuMW5Yh3xTRaav6CWTjYOyGx9AwpSqJXtlFHB0q0Xrupdh0GN0XQDh4vNHuYzYHrP3XZDhtKAfFHKjC55KRdKnZ4buQtMIQX7OBTFKT2eLikAni+4v5g4D3ES7lEKBUrm0XvNshqQqBD8B1U/Z9h1vIVs3B8w+wbUxawbC7T64YW7sKNqOcABST24v0rSqTPmB8mDCQjwWopV5yDeX7R+8ukZKGFKEtI5/Mc55UO9NF6s47baE76gcqM/TMY1BDnIVafdYc6xbLOV3TKYhh7XofraEY1FpZwGhzkQsIwSF134PAkqDUV/oVu/WdrmeHVgEaLF83c2W2U4wI4zLvRfmihRtTfHmnQw8iGUdDzFjE1HDSjOt5DPVCkEyWpXyOhWW5JZTtIXXSBVFXbCV5lRIe6yw7V+eP/e6CJWqreaeSRN48h0aPYhQERTLT3qLkamW5USXlHTan+z4SbbagkdcmkVL7TXf5pufm5OCPmc0e0XlmP+7FlEe4YxrSjxqJ/DLlh7KGCzD3yz7EL/2LFFAlT8rLvPAv9rSniVICgqVehN05K9Zq3tLPEIaYPmjm3OPs9d3OsSUeUuszNWhYSEfB6eYTxGz/iQBgvPG2hN3ofvQ51LlMWLjm27QJiaptWkhZWUOKtc++zxvP5QIdlSLMQjd2Dj2tmXTz6BonjW/RELQce9ZUuYhz1vKeFWTS7WCcbtzq7+lOpIO/mApNErnBxstAzKqkqjxBS1wm60g7KTJgm7dJYGNGki4ti8bhw2NNjnGdgOmKdHyLpas52M4GRrSmiVg9tlNF0QIpYnbwi1ksbK58W1wEa13bCHxr/PnxFt4F+A2cQsQkPNDp2XS8yuybqwp2ul6L5IK32tuYqVaWU4pjTJtgvWEl6rdcCDZxqjyWiGc0OUpXD/xrpRJya8DDSXTAaEcUxttB4AN7zQKVxQIyraqnsKuRVtsMs5ST7XO4HRpYuZeX6ih1jn5g4aBJqauXAMfA2z6jkQWvCMXvR/QaEFmIaGGMBr27B87SfjndkLJSvIClcX5Eq2j9MrW6otDWaxVVEtEOFJXY7d2eAOs9cXezA7dHhFQDVePKiOHrEVoNvcRwtKBNfeAvTtMQY8+JtdWnTI61hSt1JwFPJqkVABvo5J7EuJR0P4QwXrcwhZQHSGMPURzN/jNyFh7PhWiae8m84+i1QQDAPX03Ad1Q8SnlB1LgO3LSOpnp4TCu+V5uCa4M3Y7RwllHVXzeUuvMY18I9gteYe1SLjj2MaZ2LM20+dux9Xk4cSn1GCDLG+hE3G6+hjRacCdNud+7r/KCduvkc4vpjrk+SpMpS5D5CXMePT4g2jvNvCwjnBRX+41Vf11xGu75Htzkm7aUUEcy4pV4km+qNOXQcqysHbeJ6RhHN5n6uZ7ZgUMSav0ddeKDKCxCNXM8caukgT10rtJRbUnDKDVW5e3F9LGQtFer6I5ruFUa0WGgO74A0qgflMV4EJB/deIF1jph9yjHxxt4DttBNHhtjYZub5pWZVrIcA9WrKrf5Fx25yhVG9DuSahwRaa4Qh8S5+xg/wmdP3mO8oLI/lkk/5ZQO6oJ0vPfz4Ot+26xtU9VxK2vAr1g6GK0v1Ak5mg9cE/74+BTNaQLLe0LXDJmK/w3XslDXo7eoW2niVbn21jaNNsPiC21bJcuDKPZy0YNd3nkaaJp3om5p3KkU6/24c8cchJrycIjn6AnlGV0dWTuw07RsyKOy9GJ7DNeflfsZ074ohrIQ5zXOY4nod7SAhfCCVn+E3CWae7Hr0RplMNTeEyqIBybP06XSBVvGXlk03YKZV2vhcOcI3L9qTZPfFuhQr8TS07NYu4PQXTxiJohdYE9gO2A4JLOBMr0oO5aqJDzeXu7ggo4OrG9RrQOgeAMRTfZZF++wSvo4z3MP/n16jBaoHVSCdrFUGufUTbMoGcu9RkNlThNaOUf2jP0yg4CWO7Zj6/rG2DCDHY6ubvsHoaZNJDCWwXm4WLPDwAaThyOjNniyXELUoR+rhkNwwV5FvRPbBa8eQOudjY95MJwtnFMnzZxY51/ZArLCaPFE+UqMn8QLNHk0bbjioWO2fmby2qa7L0pXmC6Kt++IPhK0/hoXy3ZzqkyjfEQo1d5jBITRQENsMz8H6B6NhN72CmmVqrAyPZF61/PViFZvEDTTM4ag0m70iDIRPz4u5ljqiMlBP2H5/1Pu6RqentJamsFQtiNvHGDB1WrSeDmD1x/o7m2Nt0mHbkCgjSQe3Kfo8WOeL7ynpxhbw7AeTVMsQDpbPK9YDY+1EZTrbk8Ivnpw9VuVDqzjYf8MqnT8xOaPj+xT/u3RiyCAn1xQarZY6LLHN0/PIS7WnZ3mmLByHXg9drRXQt4k6MiIB81oPcLbozePQalxLISx73Hh0cQhfurnoCPS83gZzLIjLdy4QVw6mEeh0ThLSwUmyL/jufcUzR8XEUjyYoEmmnw0DooLDyJ9YZodAbY2eF4dqrIqkEqmjzWvlVhuQhYTBX2Ej64vstIMV789RQxrd+6Tn4P1oKo0NoV5HgU24l9yos29zbhm5YlC+pUvF23KdBz+zr3wg7nGeFCFaY7pShw/oc2AOGZxhBki3OTRRIufl6sO4w7VlXVRqa7UbaQq6i2CNmcaRvPIXYBsuNHTIxY5FgiVPXo0HFLWgn4aK0xeW9NdaehkvQGekIKLMYjzWECXX4V2Gk2d+whpocvQ0IF0PGp3R9YDZ1eq7Q7a7LM5G4uUWkgzdaUoytPLGejxgDZbz0e4ExsohOcuqHgH0YuCEetsHOUaZ2wp0oG11KviZNfQnJjTsdJLAx4VaF28wGVC4J2fnrAJzHt0c6z/Yyjje5SMhdQ9TNLjNdMVwIxXSoKf6Fq0qjvOs4zpE0l8s4Y/K//jDYF2aYjDEgcE7yMkheicyU/jLfjeLDn0sTFPtuYffFO3VXMErEBnhu0G4Oz6QVfpC1gPlyy0n2HnHdZMF4sl7YOHFY+43FpTypVTfVm9MymT+lisjVQl8yGY2RsHTTUPrNK53tMDqsdikaOxQ+VY4CwWtuCRoWbPfsfuHbw2ebqCt2o5VBM0fOCzLM9ARuBffPF8P4MhIM+uPqLJJcdPDx5O0D7F8eOnbzACopKg9Yipagp/ZFyK7HLTdVS0X/QWbbohyewpDzwzHbO4qgBB54wgU6hnwBk/8K8ddHluBRXtIFeZu4tP33S+YqbFY1AQtoi5zlfqvTqaQ6I5ikyuaIZgv9PvQAWaEWKEXP6FR6Mb/KuXDh3TuJYz8ihBcSFfyWlo9GhifBnHEUR0Ah/oWE78zQ2A+GYxSdEmNUIrhu839LoB2q9ueAvSAVkLBWvkPrInSlI+fXta4FiInWEx+Gts7ZDNvjC9tRXXi9zWpw2F2cuq1ugSdNYN+vqlw9Qw8FTDhRbmxSOEdOXu4B1/xhKI96x5lkR/M5v+8LriUe20ZKJaVJ4ia4DO1zSaDajR5+9U2v4IsZYPjF8qSPvfSEbIheAd4L18NiqxZqRXtlrC3HvTaFegaSzNV12H7+vx8S1IRzkcMvcJi9ARWTzSDnJ38B4th8e9FhPdkos35HpraWmoAXDcoMuuDSzbIeJvOBLSegtMX57ZM7g8zldpVifLyioj5Hz/b/gmQeviXLyImG5Hj9HieaQeiyU5aRTyZ2Y67BLWGddCvw7VAXudmAcSi1EPhlE1KlK9juqjOU3RkkQvMSWHNHFJtGWZcdegzam+e20x81ardxtZYmwMB1am6eOYlhoulrLELBtSzCvRlmbVitzZaWNBw0MtcCxkxDrHsrT2d88xf6atNL3nNs0oax2Sje4abUSTXpNSUCJO1gPkg9Ni2mrqKl6xF2UDOhk/Xop0tZDTgm7PXCiMS5WmniXATKvDl96SP4OAcN1fSquQJe/IxG1E72Qdl0X/T98WtK9ELGknj5gkPJHxmka3WmgLep9H036DEvFYz7Yg/2QpsYwnk5hCN67xtp8zqizo7Remg1qb/W8LM4G4YDEWlbhXRa7U6iw3JYMzNh6DN2LpoP4CMtNxTN14IBoc6Mv42dQ7pClGc94UDMk3pMPOgu8009rVgZemiUMaErlRcF43/Y1Qk6eTsNAhZZ7W6AWVS2M9VcvR3snYW9YKIUsV4WM0HBOIaASrgxqNByQplJjzsnWXJ7Ke/24Y6OYIKCzo/cZDWjiEIU0FasxYcGJrKfEY+1hvT7W2iyMbGeJxg64P6fTIbWAvnscXHPeU5os4gTGxWVPiZXcSO6xAakE31YNs3uIbTmXh+nv+DJDB3z1zzvU+xiunVlSs5agCewKgPQ36k8SQ9iD1hkzF0xvMGxOdtEexsBF9iErrtl0d0ssYFUOClfZolUGi/UZp8jT22uwpC/qwiKY1Q4tPmI/HtHCZsednudBUN08Gr7sOhAW9P2ZGyfczhTR/Bu1YJJI/Lxku0GrO0fKV1Ht0EjKFiI6pG2zhUR6eYHfHs3z2PMy9Y7ZaIe1IEW0Kvrd4IOhP32Ld7sgXciljlOS2WtJIM8NxNdC0g8a1WYg61xot5fOCyYXeSskzy1ZYfTrIKC9vAhHNaPVsvOCQh2OFeskSEGu5bK4H52OGPBGNjplOWXAB0YIni+XCW0JQ65UstOBNsvEX8MYNulwgi+KhVRq8tIfeLuYJl8ukPA58bYm9sqCPMniMqqVUWlriSji+jPE8m7hqO+/wdRb04Sqte9NjMB78GRA/g7OOEyyTTqLqPwHQsRmxdRYeL2hJ3CLBctJzgmf4Vo3SrCthEcqC3s3YCDXt8o/Z4ac/nmOZLJd4UnLCWaKP45Sso8nRRvSBA6JHm4RhQ2m+WD6D9Ui8ZyyR6o67xErH6S7fo+EQG5Qkzs7inNbz8/J5kcQxBPaSP1el/1bd4Bb0QSKCtSVTLc05ljyWXrKks9ZBPjhPxp+ETwA0WWlcNEuT4KDSS5ANKSGcsR8dpw11a3Sb+xAW9BGX7sSLIT18Tp6XyXOygGGx2S0jbUSfGtK41zGtViaVXkrQaKzgJXLJzVgoR8569IX/xrCIMwDgO57zeInEMTVc4MHf2kyzcQf2FCIaDbVZWYELhha/fVsuE5AP6Ul8HUCkk33oqqsALQfWaNoThZQDIOf4Dt6S5JlxMB9mN7j1yL7GiE4GBI2IzVF72EqzXD7/9g0Hw2QBSTh7xp4laWYPObv63ruhIxpwL5lx0svFb8nzc7LEw+zhDXNxKSUfo2BMAXS8OiDSvncQv4sYJSNfLMDZJRDGyFo3LCWjBLwJOknkSaCP2NZ4f+B6yZvpD4MY/u3bcxInWL/DtDAxzaXtScvYQMtxSodXhbZemcWXz8vl4jmHgfCZFmfRkJiYlsfxdkiPHnTzpDdaKvTMwdktP/2BKq0FGv5KPvaeA7cClSQjBb3K/BndcxIvczR4OAZCesh51YnesSHemECftrB3WNCkHridBHbtxonnJd6nP5Y4ycJlHEMiTsohxxzT3j1cd3oklP3p0FD5IU6HP4PdiJ+THIdCCR+AdDC9cGiUTXcbET120Do5jOUC22cSGBJziUZvCVYjwSLeAU9fTFg6hgZdjYjPS7ng8jmG/PCPBY6DgBpXtFDt3wwzY5SQmg1P2ChBx+U7Tr1hIBYLviTAOb7H7gMcyKssYKQTiFMq/BviOBiCk+bP/jcweJivcEzCk+aJCr1Y1jcKmlw07bgbcykX/8dLQDwSnGWhggepxwZcOZqxcTKgPZMiJrirY+Itl2g6cg+ko6wrVUs67fK3E0pL+tyVmONhe7gwS3pYkv4NSINwkHyUJ7DYJcr9jIl0WuezlM8JaIcE8cDUUBJuVm9hpbYohbCgd8pHrI8WYktGRyssORaXyOMBZszH+eoWEruiW1nQbUZabzAd05aZMbZzcLn0yeMlJNPo8qi69LJliZaVjv1zFkoQca1sArnLpz8kBTTHHl5kD+9fuk46tKD3HRU9vamV+Uw+L5M4/8ZJPpjWEJ0fypeGItt1hsf4Dzy1ItaawGOs+/OcBkI00tRdynflhnYw3Fs6nsFdLD3GF2ianzEVp3Zp3DgMpINrpcbKqbLScbx4xPUoR2uFJP+UJ0saD6tzOs0GYdI2OZ7KnGaullSJBhf92x/yGSUah0VpwllWGiFGYT2mBTpufkAhjNmKXP72B3Z2JCZLVEIyPrYJrSmB9lb+lbgfm4dAsUnsD4n+jtIWPSOuLpOXXJl06Pwlpgk4zMHBeuAgmOAUM5BmCqVFjMNuTBw0I8Lo8LCUlCS/5Vzq7BAnMCR10sgRBfSEQeudDTwaAfHKdQee5DphEUkyInM36YiGERHQetR4p0mTBaFpWs5fmDDHVKtRaMdEQdN4KI1Wc6wyAVsYEfW0FmaKShlTN5IcfMoRzWijH4roJQ2JOfqOBEZBHA8ZHrW3eSkL+qBLeg2tRg9Nvi7/I6EmXmw+UC+y3ClsDGLtTWCrn+7h0NP9SVSaxmyF+X/ojkcsgoB4vBrZ4NbenZIeejoXl7puR2X/BLJxko+XFJRDCCH0uTeXj+nparRXtUJTwo2lf6z9+2DzXhOZckjE+SsT3ProXpwH1/t14HQhth7D+99wygVXiOMpykIfdA/3eLGgjyl3rGSIkkjieIiFUkgSMUcEE43TLJgi6nOzrmSd4SUGQ1nZDn1ohaTUBUkD51eMacFV7TpE9e8l6h/TAt2xS1+5RijRZ8/i7FbC9KYHADJVSoiLJy2TTljKiKbEG4dCSU14oNe5eE0TOhOcC5WWqrGpHxkrD2Mvj4/M9H/URwIHFnSzvkRL36hQKgWMhS85KDSOh2vWznwmukHry+/92M5JgtamLjY6Lav8ELUDPXXCU5angr1y2iGsZr0xHpZA/QyPZLeg20fBtY/0DpqcxkMgnn+X7FUoHBC7/YbPRAM0Hoqa+fixvjH/0xyxjIcsM/wPvMfGoe9vRzq0yePlsIhN6Tjp8l3n4ZiIs67t7zItynhUdXkUO54RLlCis/LQcHNseEb38Csdfxug4xY3gttIYO1fwJ80TfLvqUgVuDolmvauGzSeFl6ewO5nBrRfgaYP2VsDbYSDVwLCzaecBsbkhaUv+R/oM3AKoMvdCd83EpJlZUSz8iY8x70EDS6kBJ3n2VuWDn1OJ02u4MCoONaU8j9YKkEzFFg8QRGdrg2J7aAFDYbakpQRzeqIfrMaXQ+JSXlslpA8ESL1/2jYZ8oS12M7M6B91oxoA9potN+Qjjen0V6X8Uv04lSgjFVSPwMNkQj5VdUOT7SDBk+RGelAffDpL3yeadeh7/G2XYdshLT+FFx0KlP56n9/BdshQDogFz/8gUVffvo6QPPGe/pIlzkoMfwdYlpwwYW5pT1zWbmtWMtpLOgO7Fjsf8GSv8CO0jxTeiQURxVLLeguzELbDyCKM1mgIvl3tNOpycVFaxB3XcV6gFvQpXJUu3bgGMgUB8Q+ZC5IWiil2GEV02CUbEYiHVW0cgE5IrBVv3+HkEY7rSgRP4R0YUHv4UR0hiJe0/w7TSBinO/APNQEwVWCNnk5hLMZAIX6Hf0y+DuVrs4ginMFtTvhBpqdFpjhHDioNBaVsJZXJod7hu+P4ROsawBdQkwkRDSoBoyItXoL1uE9AqvRhziPJm5duQPXkWeEN6XhcS2YxY4ADyxoxjo2b9R7O1bRCzGd/5Gmor5BbLQ/iiFC+TojWm5GNgSw5FglTdPfIKZTkdZQjQURwzq7vtjUB1a545CLkrAuiqJS6P07BIyI1HoAt6TpfpnhiEDTni+JHEdEt/AXCc7QUmMp6PR3UXmPnT2maoSg2fhAA9a1dBv0GUZENNMl460oA2FB7yPWZp5QiXpWFisd4KdTXWBK6T9LhVaj1+gS9FAbdZ9W76jXgyvsDYNbcpo/NM0HYrtIFIWN6IMyF9HsKc0pmlXd53GWIfFqQfMWRwKDItaYsFsMG0yZWO/1UJ3SISzoPbJwSMLL9Bv/9fMUK6bN+ZZO7RiXj+ajlg5WMdZuWqjfc6aHwtp7dEVsEIwH9Jgyw23RbViCvRN+LlYXIKrOoBYW9HG8MXlh4vdMUPuSNnhk/EY/GE4EtCoXDeH0oaI+XaWz9LJTbFgHctWgxboN0YtZUgT7e2Yw60GPIntdjwPW3+zs1Uf0qsbSLDhpBsszlpqlF4LtRTSwoHeJhiauKvtBZHOizkQqOkkWVjqOxc20wwOVTlWeql2uQgHrood4fnuuoyz4Y5ka7LQQWxpqxGjZTAF0E+Dvua6Xql7V2IJmzc0dKa6RdNW7pHZEdWFBH+GnmSbsZyLdJFwMENpvUTrq4gcMiN8VaxrqgRT6qjuVNl2HXMOoyE6rldSQbiz6j2jv7UW0avwDRi83JZCdrtBKx8EjYo0aFNrPVVnHW1tcGxQ9zmVdPWi1/SZsU89Uk3Gxca/Agj6x8mHmbGFATFU1IqqmnS6YjegDLtlOWhm1ELlSKm1Yjz6rdm/b3onVj3FqSw08G/6GfTTV7nQlj6YBRCEs6CFi2vRA0me5+lwXl4pNaS4s6H6wg3hg/0FaDJYbvi3QovUWLE6jeLC0Gew9w367EV2vpqBlnrkK9EJmtaEZ1kf3ldGgnfZxClEUWMsL+tRmC3otvkVuZhULNgRnC7pSYQjpIDAyHbB+828LWk+O00p8kZsKXjHI97ERrW2HYoX/XahUqdXhr7Cg+8eNfdPsc7EpFuu0Awv6UL+xMhxCSDMKaGGlYzjTgQ15Oc60DCPRFrRp3MXxMPD/TEGrC2VBDyghQgTopX+gIq80c9iNuvu30sr/roofaSEGaFWyoBsxLViuCpyPtS1hQ3E2S2jF7ykusggGKHd4b6WBZrd84G6mfqY+F0rYiB7UTQeoHQC8SlmKlaguLOhehkMMaVH8/r2giFbH54AW9B7iwdJM/ei9zmFBV9dnrOLh9OyPvFhrDCss6H6lGt1GigUPVQihgr5D2oIm1VBlFv7jRwYffLauY0jzAerx+XORB2Cjg8CCHi4Jpw1q2F9MBcKm4ENeWpd//1MNsaWjBd2kGGBMZzAYWukYMjfUcH/mmCMGfTs8C3pDGvyCDdBXakFXYS0CSAxTxf76EwPaNqIPd1HzjEhZJj7/sBE9nLtjNLGi0s/gpEURiHGBxt1feTKJXcK2K4coTYcSf2Ffqar3cQxwIdyFQXN92JpM5BVIhy55qABE+jMG95ga0UvQ7FpAM3Qcf5qtwzriuLCgT1dqFRTF5/wHCYaqyfYqHZLE9mjQY9xt91DSguEkuPrrZ5m8DCEdSRWYbymiReMDvaSzEKn/uf+y0kpEv0HQLYkLHtnCeu+hcSvKFjRGdYH7gok/f/beUXoiaNpq9xp8tCENmIUqgj97Ms9N0Pdw3bHEKLTs5VWbvHrkP1nxs98H9U6M6GsDTUdafPb7f2DXgt5IR4rAD1bmZ4MeQR/po68MtKB0UAmfKqVqRCn49YEuClyw/L1AI11MDbQzFdAYxVSK/pMFQWezf2EjuoeQVgjy8/fPFVC7tGKgKy2CQPhY+O91KtyC3tAF9VOwv37+6Hne0IJujoRMb94RiN+RMc2wBFY6BstZgiDw/xS4EC6wET1YWAtcWhiwPz+zQClVTAb0O/jrT8niYcJSgJE2xelpRXQ2tbgOgjzoefMOC7ola2Ei8PVm9BOLaH9KnBXVohF0cQ42/T5YNplYNraDpd9p++ipgc6dKcV0gaW7zER3nYMHEwCN+yROhLUq9GpwnGQpJhLRDbS0kX5YvRv19ZMMhx+wn2cJwn4fzM9a+Y80pkE5hC8qvQjaKiLjBB3qkJ6K7RC47c93VqhichFNIR2uwR8r5wJXdBZ/6rCd3E6O2VTCWYd0UORVQBeTAu1PB7ROwn0sk/YX1Oer3k0oD/+sQdNK/KAv0Ofa6sfxxy/PlaUIsNqRYen/Z9AT6TOelQVPPJoKa4T7J1M/2dQmZ50VlR71BAGdxY4VvLyRGRZTAb2etIw+nOHND4rPRbk3WzEh0NNJWnDHDtyplPW42+A5QU8mpM2xWVlPJ1WfHXQZ0vpuUTRikUbUQU6LaYWYXERPJqRJoj8zn4Rjzd4FUwDNch3F0ZjdR4EzLBjFxV9ZPQj+nFREN0M6GndQ06qsjCJ4gtLBplQtDViRF6WOTA50u0pH44tn+vuXAV1MD/QkinjKoMawKM7Ipt8Hy6ah0bTQPoCURUyum9SZTEjX2WCusCudNqaZXESv1aVdd6QVJpJmv5TsYnrSMQmVLpv9/ay34fAC/dH5+F0H09vAFir/UWaGxfRAT6dcStoR9LM/yiU6/sce0qouavjZlA+OnEZIA+EfqsiKoJ/1QhdZwzLuRFytPtWgWqA1PdDjbz0ISkNd/vZNFPRUlgAE2BkW9OLvLrT8rT2kvZFxVkbm+gB9obOyJhHSBbbw+mOQDrMD7DGbV+WNFppozLT976QgF3Ud5V5sx2wC+2Hk42Hl6IKclKMYCejDt2PLtz2TsYh1oHpTuYuBnsKsFoZxUKVXxUhAH7oJ7PjzQyIbBFnbzZOIaEePgPnGU3FHiBp78IJSo4spSsdkSh7UKK0/DMYP2jnATMfjAi3yixeVzA6wR28Cm6/5aHeUEY0BUZycslx0B5ot4jGmbLx8msFkQY/f4hVVzlKwCUf0FMw0joD+Rdj0+mCjdh5VEAc4Ga6mCTpqDWl3jLCDIMj10s5guhE9kXWe2N9R7QlbTBN0JR7uWNUjKH/xglOsx+U3GMxHHNNFidZXkIVP2N6N33kYnSgydmJL+ghA+1k0NrwbqymK/OeJo+HlQbulTI+0rVSYaFAbrm9KoN1RikewkbJASLPT8vBR7Lb7ccweTx/Lzv7KVjkHUwQ9vgRRrKEu0PBP23W4TY/njTiy/RN99GUaaDY9njveiNbXX9lJ9s4bhXSMOBUPKq+RT7vWMVqZ3khc/D/ZNYAeaSperKSwwcTtXflzjHivJdyL5qRfupGAno+16FHUTrp8gsXUI3olYsYR3GrtCf459YRlxANiUC+zgJAOjg7pcR14M9ratNmm9ISGx5GdLDRW0gi2CIITVHpsRzjl8Sgz8aLKwxufBlMC7W6avBENhuvugw6zmLrrcBsDojeuOK5RB41NaQ4bGMd3+pu/bqfHJST5ccoxxmP2xmHyWjcVDI5f0nI50FH7zXFNOh5XpzTT2zpmkwG9+xwWY/LGBloX/n12VHI4Iunw1kmPLZ4N3eyoJHyEGh0T6fHOavlHnQo3xjNnIzbu9qX88HgeFWi3wdkbH+niNFs03lOURxnTer+wbKIaHXWRjkeK2r8SjWZe3Sk2njGxCTero3vKoOPS7IHL6wAtL5ktFhDSQRAE04/oSlG0nx6h02sOh/s1qI+lU6lDskc2EVAV7EzL4wErar3xRvQYSVdinbco91Slo5303pGhhonpQO/h7V+UzQCgvbH2imVXBpqNtSvP/zMIrgw0zbnE/Y8oJ6g0Lu7Mry2ivdXZrVGwLg7/RZtCRHvbzQe/EO3DejymABqTxeNs3qCvwWEhPc5aRyMVb/2x4lFIdW70+poimrW0IVzeeGSM7X1y+HRAG6EewWBY1CFdXIbN0H1cF8/Hgy6VDq4JdHwR+Qh2G4/ri2hDejz9HvrkoWsEvSkf8vzSfFRIH82m3g0dN3I8bifHw3TDjIRN+bhkZJOm/JUNDbqxLyluTJrIc0V0+5h4qexw/5DuCTQ7J2gKau/s0rGpIsEBIT1J0EA6u1wQryLPDwcNApDI40EfuiP6kTLdkideFPm+FQ+3ObrJqUT0KLIXc2VHRPSkQHP/sqjLTMY/DLTU0jEh0BjU+WhCOjgI9CExXe+GfhYf3TUojgD1fiHt3cN1R8OgPNksXWBx4IX1o2D7nsS3EtETBI36cdlRscCl+PtX7w6WjtGALqVarhVA1Lgc3orr4AmbIuiuUVGMKQ+fXPVujAZkn22txg06PgW1OOPL3FEMucKIXh8W5VmFZA+VvibQ2x2IOGtIb8T3dYG+WArjv7GIvhzq7O2BblGQoS11QNpRvD3QFNbD5ovFocPhlYKmsB5WQtbWv+VvFjSFdX42W70rpK8Z9AbrYYfD4i2DPiPrnL1x0Eavs6EdyA7tuFrQau3DvgM7ONBKv42IrgN7QBXxLeh12MNY7O1nAL850CVsQ7tP05d35zNvFPQ67Y3rOPy+lY6t3q834fa3nfL0xkGv4D5Zu/MtzsSCXgeenRTSNqLPk4Z3S4c3vq1+JnzlNqLPpD0W9HBXcQE2bzuiCwt6v2vYmYErAe3rN9TIrPZq2d552/DX9YEuifprbDMLejDQK3At6H5SBZbBmw+5WZZntAyAQGf4H/hplufDreMK3h7ozGf4VuqGBo2f5ni7byP6dO3w6Y2tgfZ9vBWiGV8FKx19g6bCZw0auWNoX3Sxy5VGNGsDbaWjH5EmoCvS4ZN2l6CtRvcMmhnXQQkLYc6z7CzSUdgU/PKXBT2kebagbURb0Ba0BW1B28uCtqAtaAv6JK/t2gaa82Qyno1oKx0WtAV9Jja091IizRt9Ki3oAUDjbmKccf1GnyYW9HlA24i2oK8O9OD7R0/qKmxEW+mwoC3oC/poaX20zQwtaAvagragLWgL2oIeSzZoQduItqAtaAvagraXBX3+y+5AYyPagragLWgL2oK2oC1oC9qCtqAtaAvagragLWgL2oK2oC1oC9qCtqAtaAvagn6rV2FB24i2oC1oC9qCtpcFfcbLdirZiLagLWgL2oK2oC1oC9qC7nywub06r75fuZtLfXh31IfnfY4W9ARBH/JKnOHL7ibwHC1oC9qCttdYrnsIsZv7o77s/v7umHg+/KswMI/4Zkf+aEPpxg3++HfHfdlRP/rBv9AE6+5cP9pVgGZHgaYvuDvqh5s46Bv9ZYdOUdwdBfqmlI7DX5xrAX3ol50E+vDnaL7hhEHf3N8bWgd9GQ5nh4OGb2a+4O6YL7uKiGbnjGh2eETfMSsd55AOEwojAQ2O6+Y4H33Ul+HPfYyPPuabaYUbi4+2l73sZS972ctew9mZe/JXN+se4+6+LMTBv/f31hWcypneNvMM8t/3DWN9Z1mddN11JHQE96Z6Me7sLMiJGec+oG/q/NpeR6f2OjmjVPAeYvfm7ubu/m41m745utJsr1XQSPgOERtlvjOl5fsy7C3ofkAjWIJclaA02dKK3N1Z0L1odBdouIHC2oLuyXV0gza2Y9yg//7f/0zCR981NBr+aKJ3Tem4YeN2Hf+ZAGiaTQXXcXNPH0ESqEvDaEKqdNCCHnqUXNWYEZH9L779/T9//w/8899Jg25Jycekyn9nfwe88A/9nTToUV9/ZwY0Xv+1oM8DetoaPQ3Q7D/sP1Y6hgT9HzDP+B7//NdG9MBBba9zXP+1UXyJ6/8DchjNl1FM0eoAAAAASUVORK5CYII=)"
      ],
      "metadata": {
        "id": "iWJSpov66hGv"
      }
    }
  ],
  "metadata": {
    "colab": {
      "provenance": [],
      "gpuType": "T4"
    },
    "kernelspec": {
      "display_name": "Python 3",
      "name": "python3"
    },
    "language_info": {
      "name": "python"
    },
    "accelerator": "GPU"
  },
  "nbformat": 4,
  "nbformat_minor": 0
}